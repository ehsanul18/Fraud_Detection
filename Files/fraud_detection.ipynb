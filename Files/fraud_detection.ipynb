{
 "cells": [
  {
   "cell_type": "markdown",
   "metadata": {},
   "source": [
    "## Imported the necessary libraries"
   ]
  },
  {
   "cell_type": "code",
   "execution_count": 1,
   "metadata": {},
   "outputs": [],
   "source": [
    "import numpy as np \n",
    "import pandas as pd\n",
    "import seaborn as sns\n",
    "import matplotlib.pyplot as plt\n",
    "%matplotlib inline\n",
    "\n",
    "from sklearn.preprocessing import StandardScaler, PowerTransformer, MinMaxScaler, QuantileTransformer, RobustScaler, MaxAbsScaler\n",
    "\n",
    "from sklearn.ensemble import RandomForestClassifier, BaggingClassifier, GradientBoostingClassifier\n",
    "from sklearn.naive_bayes import GaussianNB\n",
    "from xgboost import XGBClassifier\n",
    "\n",
    "from sklearn.model_selection import GridSearchCV, RandomizedSearchCV\n",
    "# from imblearn.over_sampling import SMOTE\n",
    "# from sklearn.metrics import classification_report, confusion_matrix, accuracy_score\n",
    "# !pip install xgboost\n",
    "# !pip install imbalanced-learn"
   ]
  },
  {
   "cell_type": "markdown",
   "metadata": {},
   "source": [
    "## Creation of the training and testing dataframes"
   ]
  },
  {
   "cell_type": "code",
   "execution_count": 2,
   "metadata": {},
   "outputs": [],
   "source": [
    "tr_d_transaction = pd.read_csv(\"../Datasets/Project_IM/1/train_transaction.csv\")\n",
    "tr_d_identity = pd.read_csv(\"../Datasets/Project_IM/1/train_identity.csv\")\n",
    "t_d_transaction = pd.read_csv(\"../Datasets/Project_IM/1/test_transaction.csv\")\n",
    "t_d_identity = pd.read_csv(\"../Datasets/Project_IM/1/test_identity.csv\")"
   ]
  },
  {
   "cell_type": "markdown",
   "metadata": {},
   "source": [
    "## Overview of the statistical metrics of the numerical features of the training dataframe"
   ]
  },
  {
   "cell_type": "code",
   "execution_count": 3,
   "metadata": {},
   "outputs": [
    {
     "data": {
      "text/html": [
       "<div>\n",
       "<style scoped>\n",
       "    .dataframe tbody tr th:only-of-type {\n",
       "        vertical-align: middle;\n",
       "    }\n",
       "\n",
       "    .dataframe tbody tr th {\n",
       "        vertical-align: top;\n",
       "    }\n",
       "\n",
       "    .dataframe thead th {\n",
       "        text-align: right;\n",
       "    }\n",
       "</style>\n",
       "<table border=\"1\" class=\"dataframe\">\n",
       "  <thead>\n",
       "    <tr style=\"text-align: right;\">\n",
       "      <th></th>\n",
       "      <th>TransactionID</th>\n",
       "      <th>isFraud</th>\n",
       "      <th>TransactionDT</th>\n",
       "      <th>TransactionAmt</th>\n",
       "      <th>card1</th>\n",
       "      <th>card2</th>\n",
       "      <th>card3</th>\n",
       "      <th>card5</th>\n",
       "      <th>addr1</th>\n",
       "      <th>addr2</th>\n",
       "      <th>...</th>\n",
       "      <th>V330</th>\n",
       "      <th>V331</th>\n",
       "      <th>V332</th>\n",
       "      <th>V333</th>\n",
       "      <th>V334</th>\n",
       "      <th>V335</th>\n",
       "      <th>V336</th>\n",
       "      <th>V337</th>\n",
       "      <th>V338</th>\n",
       "      <th>V339</th>\n",
       "    </tr>\n",
       "  </thead>\n",
       "  <tbody>\n",
       "    <tr>\n",
       "      <th>count</th>\n",
       "      <td>5.905400e+05</td>\n",
       "      <td>590540.000000</td>\n",
       "      <td>5.905400e+05</td>\n",
       "      <td>590540.000000</td>\n",
       "      <td>590540.000000</td>\n",
       "      <td>581607.000000</td>\n",
       "      <td>588975.000000</td>\n",
       "      <td>586281.000000</td>\n",
       "      <td>524834.000000</td>\n",
       "      <td>524834.000000</td>\n",
       "      <td>...</td>\n",
       "      <td>82351.000000</td>\n",
       "      <td>82351.000000</td>\n",
       "      <td>82351.000000</td>\n",
       "      <td>82351.000000</td>\n",
       "      <td>82351.000000</td>\n",
       "      <td>82351.00000</td>\n",
       "      <td>82351.000000</td>\n",
       "      <td>82351.000000</td>\n",
       "      <td>82351.000000</td>\n",
       "      <td>82351.000000</td>\n",
       "    </tr>\n",
       "    <tr>\n",
       "      <th>mean</th>\n",
       "      <td>3.282270e+06</td>\n",
       "      <td>0.034990</td>\n",
       "      <td>7.372311e+06</td>\n",
       "      <td>135.027176</td>\n",
       "      <td>9898.734658</td>\n",
       "      <td>362.555488</td>\n",
       "      <td>153.194925</td>\n",
       "      <td>199.278897</td>\n",
       "      <td>290.733794</td>\n",
       "      <td>86.800630</td>\n",
       "      <td>...</td>\n",
       "      <td>0.775874</td>\n",
       "      <td>721.741883</td>\n",
       "      <td>1375.783644</td>\n",
       "      <td>1014.622782</td>\n",
       "      <td>9.807015</td>\n",
       "      <td>59.16455</td>\n",
       "      <td>28.530903</td>\n",
       "      <td>55.352422</td>\n",
       "      <td>151.160542</td>\n",
       "      <td>100.700882</td>\n",
       "    </tr>\n",
       "    <tr>\n",
       "      <th>std</th>\n",
       "      <td>1.704744e+05</td>\n",
       "      <td>0.183755</td>\n",
       "      <td>4.617224e+06</td>\n",
       "      <td>239.162522</td>\n",
       "      <td>4901.170153</td>\n",
       "      <td>157.793246</td>\n",
       "      <td>11.336444</td>\n",
       "      <td>41.244453</td>\n",
       "      <td>101.741072</td>\n",
       "      <td>2.690623</td>\n",
       "      <td>...</td>\n",
       "      <td>4.727971</td>\n",
       "      <td>6217.223583</td>\n",
       "      <td>11169.275702</td>\n",
       "      <td>7955.735482</td>\n",
       "      <td>243.861391</td>\n",
       "      <td>387.62948</td>\n",
       "      <td>274.576920</td>\n",
       "      <td>668.486833</td>\n",
       "      <td>1095.034387</td>\n",
       "      <td>814.946722</td>\n",
       "    </tr>\n",
       "    <tr>\n",
       "      <th>min</th>\n",
       "      <td>2.987000e+06</td>\n",
       "      <td>0.000000</td>\n",
       "      <td>8.640000e+04</td>\n",
       "      <td>0.251000</td>\n",
       "      <td>1000.000000</td>\n",
       "      <td>100.000000</td>\n",
       "      <td>100.000000</td>\n",
       "      <td>100.000000</td>\n",
       "      <td>100.000000</td>\n",
       "      <td>10.000000</td>\n",
       "      <td>...</td>\n",
       "      <td>0.000000</td>\n",
       "      <td>0.000000</td>\n",
       "      <td>0.000000</td>\n",
       "      <td>0.000000</td>\n",
       "      <td>0.000000</td>\n",
       "      <td>0.00000</td>\n",
       "      <td>0.000000</td>\n",
       "      <td>0.000000</td>\n",
       "      <td>0.000000</td>\n",
       "      <td>0.000000</td>\n",
       "    </tr>\n",
       "    <tr>\n",
       "      <th>25%</th>\n",
       "      <td>3.134635e+06</td>\n",
       "      <td>0.000000</td>\n",
       "      <td>3.027058e+06</td>\n",
       "      <td>43.321000</td>\n",
       "      <td>6019.000000</td>\n",
       "      <td>214.000000</td>\n",
       "      <td>150.000000</td>\n",
       "      <td>166.000000</td>\n",
       "      <td>204.000000</td>\n",
       "      <td>87.000000</td>\n",
       "      <td>...</td>\n",
       "      <td>0.000000</td>\n",
       "      <td>0.000000</td>\n",
       "      <td>0.000000</td>\n",
       "      <td>0.000000</td>\n",
       "      <td>0.000000</td>\n",
       "      <td>0.00000</td>\n",
       "      <td>0.000000</td>\n",
       "      <td>0.000000</td>\n",
       "      <td>0.000000</td>\n",
       "      <td>0.000000</td>\n",
       "    </tr>\n",
       "    <tr>\n",
       "      <th>50%</th>\n",
       "      <td>3.282270e+06</td>\n",
       "      <td>0.000000</td>\n",
       "      <td>7.306528e+06</td>\n",
       "      <td>68.769000</td>\n",
       "      <td>9678.000000</td>\n",
       "      <td>361.000000</td>\n",
       "      <td>150.000000</td>\n",
       "      <td>226.000000</td>\n",
       "      <td>299.000000</td>\n",
       "      <td>87.000000</td>\n",
       "      <td>...</td>\n",
       "      <td>0.000000</td>\n",
       "      <td>0.000000</td>\n",
       "      <td>0.000000</td>\n",
       "      <td>0.000000</td>\n",
       "      <td>0.000000</td>\n",
       "      <td>0.00000</td>\n",
       "      <td>0.000000</td>\n",
       "      <td>0.000000</td>\n",
       "      <td>0.000000</td>\n",
       "      <td>0.000000</td>\n",
       "    </tr>\n",
       "    <tr>\n",
       "      <th>75%</th>\n",
       "      <td>3.429904e+06</td>\n",
       "      <td>0.000000</td>\n",
       "      <td>1.124662e+07</td>\n",
       "      <td>125.000000</td>\n",
       "      <td>14184.000000</td>\n",
       "      <td>512.000000</td>\n",
       "      <td>150.000000</td>\n",
       "      <td>226.000000</td>\n",
       "      <td>330.000000</td>\n",
       "      <td>87.000000</td>\n",
       "      <td>...</td>\n",
       "      <td>0.000000</td>\n",
       "      <td>0.000000</td>\n",
       "      <td>25.000000</td>\n",
       "      <td>0.000000</td>\n",
       "      <td>0.000000</td>\n",
       "      <td>0.00000</td>\n",
       "      <td>0.000000</td>\n",
       "      <td>0.000000</td>\n",
       "      <td>0.000000</td>\n",
       "      <td>0.000000</td>\n",
       "    </tr>\n",
       "    <tr>\n",
       "      <th>max</th>\n",
       "      <td>3.577539e+06</td>\n",
       "      <td>1.000000</td>\n",
       "      <td>1.581113e+07</td>\n",
       "      <td>31937.391000</td>\n",
       "      <td>18396.000000</td>\n",
       "      <td>600.000000</td>\n",
       "      <td>231.000000</td>\n",
       "      <td>237.000000</td>\n",
       "      <td>540.000000</td>\n",
       "      <td>102.000000</td>\n",
       "      <td>...</td>\n",
       "      <td>55.000000</td>\n",
       "      <td>160000.000000</td>\n",
       "      <td>160000.000000</td>\n",
       "      <td>160000.000000</td>\n",
       "      <td>55125.000000</td>\n",
       "      <td>55125.00000</td>\n",
       "      <td>55125.000000</td>\n",
       "      <td>104060.000000</td>\n",
       "      <td>104060.000000</td>\n",
       "      <td>104060.000000</td>\n",
       "    </tr>\n",
       "  </tbody>\n",
       "</table>\n",
       "<p>8 rows × 380 columns</p>\n",
       "</div>"
      ],
      "text/plain": [
       "       TransactionID        isFraud  TransactionDT  TransactionAmt  \\\n",
       "count   5.905400e+05  590540.000000   5.905400e+05   590540.000000   \n",
       "mean    3.282270e+06       0.034990   7.372311e+06      135.027176   \n",
       "std     1.704744e+05       0.183755   4.617224e+06      239.162522   \n",
       "min     2.987000e+06       0.000000   8.640000e+04        0.251000   \n",
       "25%     3.134635e+06       0.000000   3.027058e+06       43.321000   \n",
       "50%     3.282270e+06       0.000000   7.306528e+06       68.769000   \n",
       "75%     3.429904e+06       0.000000   1.124662e+07      125.000000   \n",
       "max     3.577539e+06       1.000000   1.581113e+07    31937.391000   \n",
       "\n",
       "               card1          card2          card3          card5  \\\n",
       "count  590540.000000  581607.000000  588975.000000  586281.000000   \n",
       "mean     9898.734658     362.555488     153.194925     199.278897   \n",
       "std      4901.170153     157.793246      11.336444      41.244453   \n",
       "min      1000.000000     100.000000     100.000000     100.000000   \n",
       "25%      6019.000000     214.000000     150.000000     166.000000   \n",
       "50%      9678.000000     361.000000     150.000000     226.000000   \n",
       "75%     14184.000000     512.000000     150.000000     226.000000   \n",
       "max     18396.000000     600.000000     231.000000     237.000000   \n",
       "\n",
       "               addr1          addr2  ...          V330           V331  \\\n",
       "count  524834.000000  524834.000000  ...  82351.000000   82351.000000   \n",
       "mean      290.733794      86.800630  ...      0.775874     721.741883   \n",
       "std       101.741072       2.690623  ...      4.727971    6217.223583   \n",
       "min       100.000000      10.000000  ...      0.000000       0.000000   \n",
       "25%       204.000000      87.000000  ...      0.000000       0.000000   \n",
       "50%       299.000000      87.000000  ...      0.000000       0.000000   \n",
       "75%       330.000000      87.000000  ...      0.000000       0.000000   \n",
       "max       540.000000     102.000000  ...     55.000000  160000.000000   \n",
       "\n",
       "                V332           V333          V334         V335          V336  \\\n",
       "count   82351.000000   82351.000000  82351.000000  82351.00000  82351.000000   \n",
       "mean     1375.783644    1014.622782      9.807015     59.16455     28.530903   \n",
       "std     11169.275702    7955.735482    243.861391    387.62948    274.576920   \n",
       "min         0.000000       0.000000      0.000000      0.00000      0.000000   \n",
       "25%         0.000000       0.000000      0.000000      0.00000      0.000000   \n",
       "50%         0.000000       0.000000      0.000000      0.00000      0.000000   \n",
       "75%        25.000000       0.000000      0.000000      0.00000      0.000000   \n",
       "max    160000.000000  160000.000000  55125.000000  55125.00000  55125.000000   \n",
       "\n",
       "                V337           V338           V339  \n",
       "count   82351.000000   82351.000000   82351.000000  \n",
       "mean       55.352422     151.160542     100.700882  \n",
       "std       668.486833    1095.034387     814.946722  \n",
       "min         0.000000       0.000000       0.000000  \n",
       "25%         0.000000       0.000000       0.000000  \n",
       "50%         0.000000       0.000000       0.000000  \n",
       "75%         0.000000       0.000000       0.000000  \n",
       "max    104060.000000  104060.000000  104060.000000  \n",
       "\n",
       "[8 rows x 380 columns]"
      ]
     },
     "execution_count": 3,
     "metadata": {},
     "output_type": "execute_result"
    }
   ],
   "source": [
    "tr_d_transaction.describe()"
   ]
  },
  {
   "cell_type": "markdown",
   "metadata": {},
   "source": [
    "## Checking the datatype for the training transaction data"
   ]
  },
  {
   "cell_type": "code",
   "execution_count": 4,
   "metadata": {},
   "outputs": [
    {
     "name": "stdout",
     "output_type": "stream",
     "text": [
      "<class 'pandas.core.frame.DataFrame'>\n",
      "RangeIndex: 590540 entries, 0 to 590539\n",
      "Data columns (total 394 columns):\n",
      " #   Column          Non-Null Count   Dtype  \n",
      "---  ------          --------------   -----  \n",
      " 0   TransactionID   590540 non-null  int64  \n",
      " 1   isFraud         590540 non-null  int64  \n",
      " 2   TransactionDT   590540 non-null  int64  \n",
      " 3   TransactionAmt  590540 non-null  float64\n",
      " 4   ProductCD       590540 non-null  object \n",
      " 5   card1           590540 non-null  int64  \n",
      " 6   card2           581607 non-null  float64\n",
      " 7   card3           588975 non-null  float64\n",
      " 8   card4           588963 non-null  object \n",
      " 9   card5           586281 non-null  float64\n",
      " 10  card6           588969 non-null  object \n",
      " 11  addr1           524834 non-null  float64\n",
      " 12  addr2           524834 non-null  float64\n",
      " 13  dist1           238269 non-null  float64\n",
      " 14  dist2           37627 non-null   float64\n",
      " 15  P_emaildomain   496084 non-null  object \n",
      " 16  R_emaildomain   137291 non-null  object \n",
      " 17  C1              590540 non-null  float64\n",
      " 18  C2              590540 non-null  float64\n",
      " 19  C3              590540 non-null  float64\n",
      " 20  C4              590540 non-null  float64\n",
      " 21  C5              590540 non-null  float64\n",
      " 22  C6              590540 non-null  float64\n",
      " 23  C7              590540 non-null  float64\n",
      " 24  C8              590540 non-null  float64\n",
      " 25  C9              590540 non-null  float64\n",
      " 26  C10             590540 non-null  float64\n",
      " 27  C11             590540 non-null  float64\n",
      " 28  C12             590540 non-null  float64\n",
      " 29  C13             590540 non-null  float64\n",
      " 30  C14             590540 non-null  float64\n",
      " 31  D1              589271 non-null  float64\n",
      " 32  D2              309743 non-null  float64\n",
      " 33  D3              327662 non-null  float64\n",
      " 34  D4              421618 non-null  float64\n",
      " 35  D5              280699 non-null  float64\n",
      " 36  D6              73187 non-null   float64\n",
      " 37  D7              38917 non-null   float64\n",
      " 38  D8              74926 non-null   float64\n",
      " 39  D9              74926 non-null   float64\n",
      " 40  D10             514518 non-null  float64\n",
      " 41  D11             311253 non-null  float64\n",
      " 42  D12             64717 non-null   float64\n",
      " 43  D13             61952 non-null   float64\n",
      " 44  D14             62187 non-null   float64\n",
      " 45  D15             501427 non-null  float64\n",
      " 46  M1              319440 non-null  object \n",
      " 47  M2              319440 non-null  object \n",
      " 48  M3              319440 non-null  object \n",
      " 49  M4              309096 non-null  object \n",
      " 50  M5              240058 non-null  object \n",
      " 51  M6              421180 non-null  object \n",
      " 52  M7              244275 non-null  object \n",
      " 53  M8              244288 non-null  object \n",
      " 54  M9              244288 non-null  object \n",
      " 55  V1              311253 non-null  float64\n",
      " 56  V2              311253 non-null  float64\n",
      " 57  V3              311253 non-null  float64\n",
      " 58  V4              311253 non-null  float64\n",
      " 59  V5              311253 non-null  float64\n",
      " 60  V6              311253 non-null  float64\n",
      " 61  V7              311253 non-null  float64\n",
      " 62  V8              311253 non-null  float64\n",
      " 63  V9              311253 non-null  float64\n",
      " 64  V10             311253 non-null  float64\n",
      " 65  V11             311253 non-null  float64\n",
      " 66  V12             514467 non-null  float64\n",
      " 67  V13             514467 non-null  float64\n",
      " 68  V14             514467 non-null  float64\n",
      " 69  V15             514467 non-null  float64\n",
      " 70  V16             514467 non-null  float64\n",
      " 71  V17             514467 non-null  float64\n",
      " 72  V18             514467 non-null  float64\n",
      " 73  V19             514467 non-null  float64\n",
      " 74  V20             514467 non-null  float64\n",
      " 75  V21             514467 non-null  float64\n",
      " 76  V22             514467 non-null  float64\n",
      " 77  V23             514467 non-null  float64\n",
      " 78  V24             514467 non-null  float64\n",
      " 79  V25             514467 non-null  float64\n",
      " 80  V26             514467 non-null  float64\n",
      " 81  V27             514467 non-null  float64\n",
      " 82  V28             514467 non-null  float64\n",
      " 83  V29             514467 non-null  float64\n",
      " 84  V30             514467 non-null  float64\n",
      " 85  V31             514467 non-null  float64\n",
      " 86  V32             514467 non-null  float64\n",
      " 87  V33             514467 non-null  float64\n",
      " 88  V34             514467 non-null  float64\n",
      " 89  V35             421571 non-null  float64\n",
      " 90  V36             421571 non-null  float64\n",
      " 91  V37             421571 non-null  float64\n",
      " 92  V38             421571 non-null  float64\n",
      " 93  V39             421571 non-null  float64\n",
      " 94  V40             421571 non-null  float64\n",
      " 95  V41             421571 non-null  float64\n",
      " 96  V42             421571 non-null  float64\n",
      " 97  V43             421571 non-null  float64\n",
      " 98  V44             421571 non-null  float64\n",
      " 99  V45             421571 non-null  float64\n",
      " 100 V46             421571 non-null  float64\n",
      " 101 V47             421571 non-null  float64\n",
      " 102 V48             421571 non-null  float64\n",
      " 103 V49             421571 non-null  float64\n",
      " 104 V50             421571 non-null  float64\n",
      " 105 V51             421571 non-null  float64\n",
      " 106 V52             421571 non-null  float64\n",
      " 107 V53             513444 non-null  float64\n",
      " 108 V54             513444 non-null  float64\n",
      " 109 V55             513444 non-null  float64\n",
      " 110 V56             513444 non-null  float64\n",
      " 111 V57             513444 non-null  float64\n",
      " 112 V58             513444 non-null  float64\n",
      " 113 V59             513444 non-null  float64\n",
      " 114 V60             513444 non-null  float64\n",
      " 115 V61             513444 non-null  float64\n",
      " 116 V62             513444 non-null  float64\n",
      " 117 V63             513444 non-null  float64\n",
      " 118 V64             513444 non-null  float64\n",
      " 119 V65             513444 non-null  float64\n",
      " 120 V66             513444 non-null  float64\n",
      " 121 V67             513444 non-null  float64\n",
      " 122 V68             513444 non-null  float64\n",
      " 123 V69             513444 non-null  float64\n",
      " 124 V70             513444 non-null  float64\n",
      " 125 V71             513444 non-null  float64\n",
      " 126 V72             513444 non-null  float64\n",
      " 127 V73             513444 non-null  float64\n",
      " 128 V74             513444 non-null  float64\n",
      " 129 V75             501376 non-null  float64\n",
      " 130 V76             501376 non-null  float64\n",
      " 131 V77             501376 non-null  float64\n",
      " 132 V78             501376 non-null  float64\n",
      " 133 V79             501376 non-null  float64\n",
      " 134 V80             501376 non-null  float64\n",
      " 135 V81             501376 non-null  float64\n",
      " 136 V82             501376 non-null  float64\n",
      " 137 V83             501376 non-null  float64\n",
      " 138 V84             501376 non-null  float64\n",
      " 139 V85             501376 non-null  float64\n",
      " 140 V86             501376 non-null  float64\n",
      " 141 V87             501376 non-null  float64\n",
      " 142 V88             501376 non-null  float64\n",
      " 143 V89             501376 non-null  float64\n",
      " 144 V90             501376 non-null  float64\n",
      " 145 V91             501376 non-null  float64\n",
      " 146 V92             501376 non-null  float64\n",
      " 147 V93             501376 non-null  float64\n",
      " 148 V94             501376 non-null  float64\n",
      " 149 V95             590226 non-null  float64\n",
      " 150 V96             590226 non-null  float64\n",
      " 151 V97             590226 non-null  float64\n",
      " 152 V98             590226 non-null  float64\n",
      " 153 V99             590226 non-null  float64\n",
      " 154 V100            590226 non-null  float64\n",
      " 155 V101            590226 non-null  float64\n",
      " 156 V102            590226 non-null  float64\n",
      " 157 V103            590226 non-null  float64\n",
      " 158 V104            590226 non-null  float64\n",
      " 159 V105            590226 non-null  float64\n",
      " 160 V106            590226 non-null  float64\n",
      " 161 V107            590226 non-null  float64\n",
      " 162 V108            590226 non-null  float64\n",
      " 163 V109            590226 non-null  float64\n",
      " 164 V110            590226 non-null  float64\n",
      " 165 V111            590226 non-null  float64\n",
      " 166 V112            590226 non-null  float64\n",
      " 167 V113            590226 non-null  float64\n",
      " 168 V114            590226 non-null  float64\n",
      " 169 V115            590226 non-null  float64\n",
      " 170 V116            590226 non-null  float64\n",
      " 171 V117            590226 non-null  float64\n",
      " 172 V118            590226 non-null  float64\n",
      " 173 V119            590226 non-null  float64\n",
      " 174 V120            590226 non-null  float64\n",
      " 175 V121            590226 non-null  float64\n",
      " 176 V122            590226 non-null  float64\n",
      " 177 V123            590226 non-null  float64\n",
      " 178 V124            590226 non-null  float64\n",
      " 179 V125            590226 non-null  float64\n",
      " 180 V126            590226 non-null  float64\n",
      " 181 V127            590226 non-null  float64\n",
      " 182 V128            590226 non-null  float64\n",
      " 183 V129            590226 non-null  float64\n",
      " 184 V130            590226 non-null  float64\n",
      " 185 V131            590226 non-null  float64\n",
      " 186 V132            590226 non-null  float64\n",
      " 187 V133            590226 non-null  float64\n",
      " 188 V134            590226 non-null  float64\n",
      " 189 V135            590226 non-null  float64\n",
      " 190 V136            590226 non-null  float64\n",
      " 191 V137            590226 non-null  float64\n",
      " 192 V138            81945 non-null   float64\n",
      " 193 V139            81945 non-null   float64\n",
      " 194 V140            81945 non-null   float64\n",
      " 195 V141            81945 non-null   float64\n",
      " 196 V142            81945 non-null   float64\n",
      " 197 V143            81951 non-null   float64\n",
      " 198 V144            81951 non-null   float64\n",
      " 199 V145            81951 non-null   float64\n",
      " 200 V146            81945 non-null   float64\n",
      " 201 V147            81945 non-null   float64\n",
      " 202 V148            81945 non-null   float64\n",
      " 203 V149            81945 non-null   float64\n",
      " 204 V150            81951 non-null   float64\n",
      " 205 V151            81951 non-null   float64\n",
      " 206 V152            81951 non-null   float64\n",
      " 207 V153            81945 non-null   float64\n",
      " 208 V154            81945 non-null   float64\n",
      " 209 V155            81945 non-null   float64\n",
      " 210 V156            81945 non-null   float64\n",
      " 211 V157            81945 non-null   float64\n",
      " 212 V158            81945 non-null   float64\n",
      " 213 V159            81951 non-null   float64\n",
      " 214 V160            81951 non-null   float64\n",
      " 215 V161            81945 non-null   float64\n",
      " 216 V162            81945 non-null   float64\n",
      " 217 V163            81945 non-null   float64\n",
      " 218 V164            81951 non-null   float64\n",
      " 219 V165            81951 non-null   float64\n",
      " 220 V166            81951 non-null   float64\n",
      " 221 V167            139631 non-null  float64\n",
      " 222 V168            139631 non-null  float64\n",
      " 223 V169            139819 non-null  float64\n",
      " 224 V170            139819 non-null  float64\n",
      " 225 V171            139819 non-null  float64\n",
      " 226 V172            139631 non-null  float64\n",
      " 227 V173            139631 non-null  float64\n",
      " 228 V174            139819 non-null  float64\n",
      " 229 V175            139819 non-null  float64\n",
      " 230 V176            139631 non-null  float64\n",
      " 231 V177            139631 non-null  float64\n",
      " 232 V178            139631 non-null  float64\n",
      " 233 V179            139631 non-null  float64\n",
      " 234 V180            139819 non-null  float64\n",
      " 235 V181            139631 non-null  float64\n",
      " 236 V182            139631 non-null  float64\n",
      " 237 V183            139631 non-null  float64\n",
      " 238 V184            139819 non-null  float64\n",
      " 239 V185            139819 non-null  float64\n",
      " 240 V186            139631 non-null  float64\n",
      " 241 V187            139631 non-null  float64\n",
      " 242 V188            139819 non-null  float64\n",
      " 243 V189            139819 non-null  float64\n",
      " 244 V190            139631 non-null  float64\n",
      " 245 V191            139631 non-null  float64\n",
      " 246 V192            139631 non-null  float64\n",
      " 247 V193            139631 non-null  float64\n",
      " 248 V194            139819 non-null  float64\n",
      " 249 V195            139819 non-null  float64\n",
      " 250 V196            139631 non-null  float64\n",
      " 251 V197            139819 non-null  float64\n",
      " 252 V198            139819 non-null  float64\n",
      " 253 V199            139631 non-null  float64\n",
      " 254 V200            139819 non-null  float64\n",
      " 255 V201            139819 non-null  float64\n",
      " 256 V202            139631 non-null  float64\n",
      " 257 V203            139631 non-null  float64\n",
      " 258 V204            139631 non-null  float64\n",
      " 259 V205            139631 non-null  float64\n",
      " 260 V206            139631 non-null  float64\n",
      " 261 V207            139631 non-null  float64\n",
      " 262 V208            139819 non-null  float64\n",
      " 263 V209            139819 non-null  float64\n",
      " 264 V210            139819 non-null  float64\n",
      " 265 V211            139631 non-null  float64\n",
      " 266 V212            139631 non-null  float64\n",
      " 267 V213            139631 non-null  float64\n",
      " 268 V214            139631 non-null  float64\n",
      " 269 V215            139631 non-null  float64\n",
      " 270 V216            139631 non-null  float64\n",
      " 271 V217            130430 non-null  float64\n",
      " 272 V218            130430 non-null  float64\n",
      " 273 V219            130430 non-null  float64\n",
      " 274 V220            141416 non-null  float64\n",
      " 275 V221            141416 non-null  float64\n",
      " 276 V222            141416 non-null  float64\n",
      " 277 V223            130430 non-null  float64\n",
      " 278 V224            130430 non-null  float64\n",
      " 279 V225            130430 non-null  float64\n",
      " 280 V226            130430 non-null  float64\n",
      " 281 V227            141416 non-null  float64\n",
      " 282 V228            130430 non-null  float64\n",
      " 283 V229            130430 non-null  float64\n",
      " 284 V230            130430 non-null  float64\n",
      " 285 V231            130430 non-null  float64\n",
      " 286 V232            130430 non-null  float64\n",
      " 287 V233            130430 non-null  float64\n",
      " 288 V234            141416 non-null  float64\n",
      " 289 V235            130430 non-null  float64\n",
      " 290 V236            130430 non-null  float64\n",
      " 291 V237            130430 non-null  float64\n",
      " 292 V238            141416 non-null  float64\n",
      " 293 V239            141416 non-null  float64\n",
      " 294 V240            130430 non-null  float64\n",
      " 295 V241            130430 non-null  float64\n",
      " 296 V242            130430 non-null  float64\n",
      " 297 V243            130430 non-null  float64\n",
      " 298 V244            130430 non-null  float64\n",
      " 299 V245            141416 non-null  float64\n",
      " 300 V246            130430 non-null  float64\n",
      " 301 V247            130430 non-null  float64\n",
      " 302 V248            130430 non-null  float64\n",
      " 303 V249            130430 non-null  float64\n",
      " 304 V250            141416 non-null  float64\n",
      " 305 V251            141416 non-null  float64\n",
      " 306 V252            130430 non-null  float64\n",
      " 307 V253            130430 non-null  float64\n",
      " 308 V254            130430 non-null  float64\n",
      " 309 V255            141416 non-null  float64\n",
      " 310 V256            141416 non-null  float64\n",
      " 311 V257            130430 non-null  float64\n",
      " 312 V258            130430 non-null  float64\n",
      " 313 V259            141416 non-null  float64\n",
      " 314 V260            130430 non-null  float64\n",
      " 315 V261            130430 non-null  float64\n",
      " 316 V262            130430 non-null  float64\n",
      " 317 V263            130430 non-null  float64\n",
      " 318 V264            130430 non-null  float64\n",
      " 319 V265            130430 non-null  float64\n",
      " 320 V266            130430 non-null  float64\n",
      " 321 V267            130430 non-null  float64\n",
      " 322 V268            130430 non-null  float64\n",
      " 323 V269            130430 non-null  float64\n",
      " 324 V270            141416 non-null  float64\n",
      " 325 V271            141416 non-null  float64\n",
      " 326 V272            141416 non-null  float64\n",
      " 327 V273            130430 non-null  float64\n",
      " 328 V274            130430 non-null  float64\n",
      " 329 V275            130430 non-null  float64\n",
      " 330 V276            130430 non-null  float64\n",
      " 331 V277            130430 non-null  float64\n",
      " 332 V278            130430 non-null  float64\n",
      " 333 V279            590528 non-null  float64\n",
      " 334 V280            590528 non-null  float64\n",
      " 335 V281            589271 non-null  float64\n",
      " 336 V282            589271 non-null  float64\n",
      " 337 V283            589271 non-null  float64\n",
      " 338 V284            590528 non-null  float64\n",
      " 339 V285            590528 non-null  float64\n",
      " 340 V286            590528 non-null  float64\n",
      " 341 V287            590528 non-null  float64\n",
      " 342 V288            589271 non-null  float64\n",
      " 343 V289            589271 non-null  float64\n",
      " 344 V290            590528 non-null  float64\n",
      " 345 V291            590528 non-null  float64\n",
      " 346 V292            590528 non-null  float64\n",
      " 347 V293            590528 non-null  float64\n",
      " 348 V294            590528 non-null  float64\n",
      " 349 V295            590528 non-null  float64\n",
      " 350 V296            589271 non-null  float64\n",
      " 351 V297            590528 non-null  float64\n",
      " 352 V298            590528 non-null  float64\n",
      " 353 V299            590528 non-null  float64\n",
      " 354 V300            589271 non-null  float64\n",
      " 355 V301            589271 non-null  float64\n",
      " 356 V302            590528 non-null  float64\n",
      " 357 V303            590528 non-null  float64\n",
      " 358 V304            590528 non-null  float64\n",
      " 359 V305            590528 non-null  float64\n",
      " 360 V306            590528 non-null  float64\n",
      " 361 V307            590528 non-null  float64\n",
      " 362 V308            590528 non-null  float64\n",
      " 363 V309            590528 non-null  float64\n",
      " 364 V310            590528 non-null  float64\n",
      " 365 V311            590528 non-null  float64\n",
      " 366 V312            590528 non-null  float64\n",
      " 367 V313            589271 non-null  float64\n",
      " 368 V314            589271 non-null  float64\n",
      " 369 V315            589271 non-null  float64\n",
      " 370 V316            590528 non-null  float64\n",
      " 371 V317            590528 non-null  float64\n",
      " 372 V318            590528 non-null  float64\n",
      " 373 V319            590528 non-null  float64\n",
      " 374 V320            590528 non-null  float64\n",
      " 375 V321            590528 non-null  float64\n",
      " 376 V322            82351 non-null   float64\n",
      " 377 V323            82351 non-null   float64\n",
      " 378 V324            82351 non-null   float64\n",
      " 379 V325            82351 non-null   float64\n",
      " 380 V326            82351 non-null   float64\n",
      " 381 V327            82351 non-null   float64\n",
      " 382 V328            82351 non-null   float64\n",
      " 383 V329            82351 non-null   float64\n",
      " 384 V330            82351 non-null   float64\n",
      " 385 V331            82351 non-null   float64\n",
      " 386 V332            82351 non-null   float64\n",
      " 387 V333            82351 non-null   float64\n",
      " 388 V334            82351 non-null   float64\n",
      " 389 V335            82351 non-null   float64\n",
      " 390 V336            82351 non-null   float64\n",
      " 391 V337            82351 non-null   float64\n",
      " 392 V338            82351 non-null   float64\n",
      " 393 V339            82351 non-null   float64\n",
      "dtypes: float64(376), int64(4), object(14)\n",
      "memory usage: 1.7+ GB\n"
     ]
    }
   ],
   "source": [
    "tr_d_transaction.info(verbose=True, null_counts=True)"
   ]
  },
  {
   "cell_type": "markdown",
   "metadata": {},
   "source": [
    "Checking the shape of the training transaction data."
   ]
  },
  {
   "cell_type": "code",
   "execution_count": 5,
   "metadata": {},
   "outputs": [
    {
     "data": {
      "text/plain": [
       "(590540, 394)"
      ]
     },
     "execution_count": 5,
     "metadata": {},
     "output_type": "execute_result"
    }
   ],
   "source": [
    "tr_d_transaction.shape"
   ]
  },
  {
   "cell_type": "markdown",
   "metadata": {},
   "source": [
    "## Checking the null values within the training transaction data"
   ]
  },
  {
   "cell_type": "code",
   "execution_count": 6,
   "metadata": {},
   "outputs": [
    {
     "data": {
      "text/plain": [
       "TransactionID          0\n",
       "isFraud                0\n",
       "TransactionDT          0\n",
       "TransactionAmt         0\n",
       "ProductCD              0\n",
       "                   ...  \n",
       "V335              508189\n",
       "V336              508189\n",
       "V337              508189\n",
       "V338              508189\n",
       "V339              508189\n",
       "Length: 394, dtype: int64"
      ]
     },
     "execution_count": 6,
     "metadata": {},
     "output_type": "execute_result"
    }
   ],
   "source": [
    "tr_d_transaction.isnull().sum()"
   ]
  },
  {
   "cell_type": "markdown",
   "metadata": {},
   "source": [
    "## Dropping the features with null values of over 100000"
   ]
  },
  {
   "cell_type": "code",
   "execution_count": 7,
   "metadata": {},
   "outputs": [],
   "source": [
    "a = tr_d_transaction.isnull().sum()> 100000\n",
    "first_drop_list = list(a[a].index)"
   ]
  },
  {
   "cell_type": "code",
   "execution_count": 8,
   "metadata": {},
   "outputs": [],
   "source": [
    "tr_d_transaction.drop(first_drop_list, axis=1, inplace=True)"
   ]
  },
  {
   "cell_type": "code",
   "execution_count": 9,
   "metadata": {},
   "outputs": [
    {
     "data": {
      "text/plain": [
       "TransactionID      0\n",
       "isFraud            0\n",
       "TransactionDT      0\n",
       "TransactionAmt     0\n",
       "ProductCD          0\n",
       "                  ..\n",
       "V317              12\n",
       "V318              12\n",
       "V319              12\n",
       "V320              12\n",
       "V321              12\n",
       "Length: 182, dtype: int64"
      ]
     },
     "execution_count": 9,
     "metadata": {},
     "output_type": "execute_result"
    }
   ],
   "source": [
    "tr_d_transaction.isnull().sum()"
   ]
  },
  {
   "cell_type": "markdown",
   "metadata": {},
   "source": [
    "## Labelling the categorical values of the training transaction data"
   ]
  },
  {
   "cell_type": "markdown",
   "metadata": {},
   "source": [
    "Replacing the small amount of categorical value \"debit or credit\" and \"charge card\" with NaN within the \"card6\" column."
   ]
  },
  {
   "cell_type": "code",
   "execution_count": 10,
   "metadata": {},
   "outputs": [],
   "source": [
    "tr_d_transaction['card6'] = tr_d_transaction['card6'].replace({'debit or credit':np.NaN, 'charge card':np.NaN})"
   ]
  },
  {
   "cell_type": "markdown",
   "metadata": {},
   "source": [
    "Dropping the \"P_emaildomain\" column as there is no meainingful way to encode the column. Also, it contains over 90000 null values as seen previously."
   ]
  },
  {
   "cell_type": "code",
   "execution_count": 11,
   "metadata": {
    "scrolled": true
   },
   "outputs": [
    {
     "data": {
      "text/plain": [
       "gmail.com           228355\n",
       "yahoo.com           100934\n",
       "hotmail.com          45250\n",
       "anonymous.com        36998\n",
       "aol.com              28289\n",
       "comcast.net           7888\n",
       "icloud.com            6267\n",
       "outlook.com           5096\n",
       "msn.com               4092\n",
       "att.net               4033\n",
       "live.com              3041\n",
       "sbcglobal.net         2970\n",
       "verizon.net           2705\n",
       "ymail.com             2396\n",
       "bellsouth.net         1909\n",
       "yahoo.com.mx          1543\n",
       "me.com                1522\n",
       "cox.net               1393\n",
       "optonline.net         1011\n",
       "charter.net            816\n",
       "live.com.mx            749\n",
       "rocketmail.com         664\n",
       "mail.com               559\n",
       "earthlink.net          514\n",
       "gmail                  496\n",
       "outlook.es             438\n",
       "mac.com                436\n",
       "juno.com               322\n",
       "aim.com                315\n",
       "roadrunner.com         305\n",
       "hotmail.es             305\n",
       "windstream.net         305\n",
       "hotmail.fr             295\n",
       "frontier.com           280\n",
       "embarqmail.com         260\n",
       "web.de                 240\n",
       "twc.com                230\n",
       "netzero.com            230\n",
       "prodigy.net.mx         207\n",
       "centurylink.net        205\n",
       "netzero.net            196\n",
       "frontiernet.net        195\n",
       "q.com                  189\n",
       "suddenlink.net         175\n",
       "cfl.rr.com             172\n",
       "sc.rr.com              164\n",
       "cableone.net           159\n",
       "gmx.de                 149\n",
       "yahoo.fr               143\n",
       "yahoo.es               134\n",
       "hotmail.co.uk          112\n",
       "protonmail.com          76\n",
       "yahoo.de                74\n",
       "ptd.net                 68\n",
       "live.fr                 56\n",
       "yahoo.co.uk             49\n",
       "hotmail.de              43\n",
       "servicios-ta.com        35\n",
       "yahoo.co.jp             32\n",
       "Name: P_emaildomain, dtype: int64"
      ]
     },
     "execution_count": 11,
     "metadata": {},
     "output_type": "execute_result"
    }
   ],
   "source": [
    "tr_d_transaction.P_emaildomain.value_counts()"
   ]
  },
  {
   "cell_type": "code",
   "execution_count": 12,
   "metadata": {},
   "outputs": [],
   "source": [
    "tr_d_transaction.drop('P_emaildomain', axis=1, inplace=True)"
   ]
  },
  {
   "cell_type": "markdown",
   "metadata": {},
   "source": [
    "Encoding the rest of the categorical columns of transaction training data"
   ]
  },
  {
   "cell_type": "code",
   "execution_count": 13,
   "metadata": {},
   "outputs": [
    {
     "data": {
      "text/plain": [
       "0    439670\n",
       "1     68519\n",
       "2     37699\n",
       "3     33024\n",
       "4     11628\n",
       "Name: ProductCD, dtype: int64"
      ]
     },
     "execution_count": 13,
     "metadata": {},
     "output_type": "execute_result"
    }
   ],
   "source": [
    "tr_d_transaction['ProductCD'] = tr_d_transaction['ProductCD'].replace({'W':0, 'C':1, 'R':2, 'H':3, 'S':4})\n",
    "tr_d_transaction['ProductCD'].value_counts()"
   ]
  },
  {
   "cell_type": "code",
   "execution_count": 14,
   "metadata": {},
   "outputs": [
    {
     "data": {
      "text/plain": [
       "0.0    384767\n",
       "1.0    189217\n",
       "2.0      8328\n",
       "3.0      6651\n",
       "Name: card4, dtype: int64"
      ]
     },
     "execution_count": 14,
     "metadata": {},
     "output_type": "execute_result"
    }
   ],
   "source": [
    "tr_d_transaction['card4'] = tr_d_transaction['card4'].replace({'visa':0, 'mastercard':1, 'american express':2, 'discover':3})\n",
    "tr_d_transaction['card4'].value_counts()"
   ]
  },
  {
   "cell_type": "code",
   "execution_count": 15,
   "metadata": {},
   "outputs": [
    {
     "data": {
      "text/plain": [
       "0.0    439938\n",
       "1.0    148986\n",
       "Name: card6, dtype: int64"
      ]
     },
     "execution_count": 15,
     "metadata": {},
     "output_type": "execute_result"
    }
   ],
   "source": [
    "tr_d_transaction['card6'] = tr_d_transaction['card6'].replace({'debit':0, 'credit':1})\n",
    "tr_d_transaction['card6'].value_counts()"
   ]
  },
  {
   "cell_type": "code",
   "execution_count": 16,
   "metadata": {},
   "outputs": [
    {
     "data": {
      "text/plain": [
       "TransactionID      0\n",
       "isFraud            0\n",
       "TransactionDT      0\n",
       "TransactionAmt     0\n",
       "ProductCD          0\n",
       "                  ..\n",
       "V317              12\n",
       "V318              12\n",
       "V319              12\n",
       "V320              12\n",
       "V321              12\n",
       "Length: 181, dtype: int64"
      ]
     },
     "execution_count": 16,
     "metadata": {},
     "output_type": "execute_result"
    }
   ],
   "source": [
    "tr_d_transaction.isnull().sum()"
   ]
  },
  {
   "cell_type": "markdown",
   "metadata": {},
   "source": [
    "## Filling the remaining null values with mean and mode "
   ]
  },
  {
   "cell_type": "code",
   "execution_count": 17,
   "metadata": {},
   "outputs": [],
   "source": [
    "tr_d_transaction['card4'].fillna((tr_d_transaction['card6'].mode()[0]), inplace=True)"
   ]
  },
  {
   "cell_type": "code",
   "execution_count": 18,
   "metadata": {},
   "outputs": [],
   "source": [
    "tr_d_transaction['card6'].fillna((tr_d_transaction['card6'].mode()[0]), inplace=True)"
   ]
  },
  {
   "cell_type": "code",
   "execution_count": 19,
   "metadata": {},
   "outputs": [],
   "source": [
    "b = tr_d_transaction.isnull().sum()> 50000\n",
    "second_drop_list = list(b[b].index)\n",
    "tr_d_transaction.drop(second_drop_list, axis=1, inplace=True)"
   ]
  },
  {
   "cell_type": "code",
   "execution_count": 20,
   "metadata": {},
   "outputs": [],
   "source": [
    "tr_d_transaction.fillna(tr_d_transaction.mean(), inplace=True)"
   ]
  },
  {
   "cell_type": "markdown",
   "metadata": {},
   "source": [
    "## Checking the null values for training identity data"
   ]
  },
  {
   "cell_type": "code",
   "execution_count": 21,
   "metadata": {
    "scrolled": true
   },
   "outputs": [
    {
     "data": {
      "text/plain": [
       "TransactionID         0\n",
       "id_01                 0\n",
       "id_02              3361\n",
       "id_03             77909\n",
       "id_04             77909\n",
       "id_05              7368\n",
       "id_06              7368\n",
       "id_07            139078\n",
       "id_08            139078\n",
       "id_09             69307\n",
       "id_10             69307\n",
       "id_11              3255\n",
       "id_12                 0\n",
       "id_13             16913\n",
       "id_14             64189\n",
       "id_15              3248\n",
       "id_16             14893\n",
       "id_17              4864\n",
       "id_18             99120\n",
       "id_19              4915\n",
       "id_20              4972\n",
       "id_21            139074\n",
       "id_22            139064\n",
       "id_23            139064\n",
       "id_24            139486\n",
       "id_25            139101\n",
       "id_26            139070\n",
       "id_27            139064\n",
       "id_28              3255\n",
       "id_29              3255\n",
       "id_30             66668\n",
       "id_31              3951\n",
       "id_32             66647\n",
       "id_33             70944\n",
       "id_34             66428\n",
       "id_35              3248\n",
       "id_36              3248\n",
       "id_37              3248\n",
       "id_38              3248\n",
       "DeviceType         3423\n",
       "DeviceInfo        25567\n",
       "dtype: int64"
      ]
     },
     "execution_count": 21,
     "metadata": {},
     "output_type": "execute_result"
    }
   ],
   "source": [
    "tr_d_identity.isnull().sum()"
   ]
  },
  {
   "cell_type": "markdown",
   "metadata": {},
   "source": [
    "## Dropping features with over 40000 null values"
   ]
  },
  {
   "cell_type": "code",
   "execution_count": 22,
   "metadata": {},
   "outputs": [],
   "source": [
    "c = tr_d_identity.isnull().sum()>40000\n",
    "third_drop_list = list(c[c].index)\n",
    "tr_d_identity.drop(third_drop_list, axis=1, inplace=True)"
   ]
  },
  {
   "cell_type": "code",
   "execution_count": 23,
   "metadata": {},
   "outputs": [
    {
     "data": {
      "text/plain": [
       "TransactionID        0\n",
       "id_01                0\n",
       "id_02             3361\n",
       "id_05             7368\n",
       "id_06             7368\n",
       "id_11             3255\n",
       "id_12                0\n",
       "id_13            16913\n",
       "id_15             3248\n",
       "id_16            14893\n",
       "id_17             4864\n",
       "id_19             4915\n",
       "id_20             4972\n",
       "id_28             3255\n",
       "id_29             3255\n",
       "id_31             3951\n",
       "id_35             3248\n",
       "id_36             3248\n",
       "id_37             3248\n",
       "id_38             3248\n",
       "DeviceType        3423\n",
       "DeviceInfo       25567\n",
       "dtype: int64"
      ]
     },
     "execution_count": 23,
     "metadata": {},
     "output_type": "execute_result"
    }
   ],
   "source": [
    "tr_d_identity.isnull().sum()"
   ]
  },
  {
   "cell_type": "markdown",
   "metadata": {},
   "source": [
    "## Checking and encoding the categorical columns"
   ]
  },
  {
   "cell_type": "code",
   "execution_count": 24,
   "metadata": {},
   "outputs": [
    {
     "data": {
      "text/plain": [
       "Index(['id_12', 'id_15', 'id_16', 'id_28', 'id_29', 'id_31', 'id_35', 'id_36',\n",
       "       'id_37', 'id_38', 'DeviceType', 'DeviceInfo'],\n",
       "      dtype='object')"
      ]
     },
     "execution_count": 24,
     "metadata": {},
     "output_type": "execute_result"
    }
   ],
   "source": [
    "list_of_objects = tr_d_identity.select_dtypes(include=['object']).columns\n",
    "list_of_objects"
   ]
  },
  {
   "cell_type": "code",
   "execution_count": 25,
   "metadata": {},
   "outputs": [
    {
     "data": {
      "text/plain": [
       "NotFound    123025\n",
       "Found        21208\n",
       "Name: id_12, dtype: int64"
      ]
     },
     "execution_count": 25,
     "metadata": {},
     "output_type": "execute_result"
    }
   ],
   "source": [
    "tr_d_identity.id_12.value_counts()"
   ]
  },
  {
   "cell_type": "code",
   "execution_count": 26,
   "metadata": {},
   "outputs": [
    {
     "data": {
      "text/plain": [
       "Found      67728\n",
       "New        61612\n",
       "Unknown    11645\n",
       "Name: id_15, dtype: int64"
      ]
     },
     "execution_count": 26,
     "metadata": {},
     "output_type": "execute_result"
    }
   ],
   "source": [
    "tr_d_identity.id_15.value_counts()"
   ]
  },
  {
   "cell_type": "code",
   "execution_count": 27,
   "metadata": {},
   "outputs": [
    {
     "data": {
      "text/plain": [
       "Found       66324\n",
       "NotFound    63016\n",
       "Name: id_16, dtype: int64"
      ]
     },
     "execution_count": 27,
     "metadata": {},
     "output_type": "execute_result"
    }
   ],
   "source": [
    "tr_d_identity.id_16.value_counts()"
   ]
  },
  {
   "cell_type": "code",
   "execution_count": 28,
   "metadata": {},
   "outputs": [
    {
     "data": {
      "text/plain": [
       "Found    76232\n",
       "New      64746\n",
       "Name: id_28, dtype: int64"
      ]
     },
     "execution_count": 28,
     "metadata": {},
     "output_type": "execute_result"
    }
   ],
   "source": [
    "tr_d_identity.id_28.value_counts()"
   ]
  },
  {
   "cell_type": "code",
   "execution_count": 29,
   "metadata": {},
   "outputs": [
    {
     "data": {
      "text/plain": [
       "Found       74926\n",
       "NotFound    66052\n",
       "Name: id_29, dtype: int64"
      ]
     },
     "execution_count": 29,
     "metadata": {},
     "output_type": "execute_result"
    }
   ],
   "source": [
    "tr_d_identity.id_29.value_counts()"
   ]
  },
  {
   "cell_type": "code",
   "execution_count": 30,
   "metadata": {},
   "outputs": [
    {
     "data": {
      "text/plain": [
       "chrome 63.0              22000\n",
       "mobile safari 11.0       13423\n",
       "mobile safari generic    11474\n",
       "ie 11.0 for desktop       9030\n",
       "safari generic            8195\n",
       "                         ...  \n",
       "BLU/Dash                     1\n",
       "Nokia/Lumia                  1\n",
       "M4Tel/M4                     1\n",
       "seamonkey                    1\n",
       "Inco/Minion                  1\n",
       "Name: id_31, Length: 130, dtype: int64"
      ]
     },
     "execution_count": 30,
     "metadata": {},
     "output_type": "execute_result"
    }
   ],
   "source": [
    "tr_d_identity.id_31.value_counts()"
   ]
  },
  {
   "cell_type": "code",
   "execution_count": 31,
   "metadata": {},
   "outputs": [
    {
     "data": {
      "text/plain": [
       "T    77814\n",
       "F    63171\n",
       "Name: id_35, dtype: int64"
      ]
     },
     "execution_count": 31,
     "metadata": {},
     "output_type": "execute_result"
    }
   ],
   "source": [
    "tr_d_identity.id_35.value_counts()"
   ]
  },
  {
   "cell_type": "code",
   "execution_count": 32,
   "metadata": {},
   "outputs": [
    {
     "data": {
      "text/plain": [
       "F    134066\n",
       "T      6919\n",
       "Name: id_36, dtype: int64"
      ]
     },
     "execution_count": 32,
     "metadata": {},
     "output_type": "execute_result"
    }
   ],
   "source": [
    "tr_d_identity.id_36.value_counts()"
   ]
  },
  {
   "cell_type": "code",
   "execution_count": 33,
   "metadata": {},
   "outputs": [
    {
     "data": {
      "text/plain": [
       "T    110452\n",
       "F     30533\n",
       "Name: id_37, dtype: int64"
      ]
     },
     "execution_count": 33,
     "metadata": {},
     "output_type": "execute_result"
    }
   ],
   "source": [
    "tr_d_identity.id_37.value_counts()"
   ]
  },
  {
   "cell_type": "code",
   "execution_count": 34,
   "metadata": {},
   "outputs": [
    {
     "data": {
      "text/plain": [
       "F    73922\n",
       "T    67063\n",
       "Name: id_38, dtype: int64"
      ]
     },
     "execution_count": 34,
     "metadata": {},
     "output_type": "execute_result"
    }
   ],
   "source": [
    "tr_d_identity.id_38.value_counts()"
   ]
  },
  {
   "cell_type": "code",
   "execution_count": 35,
   "metadata": {},
   "outputs": [
    {
     "data": {
      "text/plain": [
       "desktop    85165\n",
       "mobile     55645\n",
       "Name: DeviceType, dtype: int64"
      ]
     },
     "execution_count": 35,
     "metadata": {},
     "output_type": "execute_result"
    }
   ],
   "source": [
    "tr_d_identity.DeviceType.value_counts()"
   ]
  },
  {
   "cell_type": "code",
   "execution_count": 36,
   "metadata": {},
   "outputs": [
    {
     "data": {
      "text/plain": [
       "Windows        47722\n",
       "iOS Device     19782\n",
       "MacOS          12573\n",
       "Trident/7.0     7440\n",
       "rv:11.0         1901\n",
       "               ...  \n",
       "5057M              1\n",
       "SM-G900L           1\n",
       "SM-T818V           1\n",
       "SM-T817T           1\n",
       "4034E              1\n",
       "Name: DeviceInfo, Length: 1786, dtype: int64"
      ]
     },
     "execution_count": 36,
     "metadata": {},
     "output_type": "execute_result"
    }
   ],
   "source": [
    "tr_d_identity.DeviceInfo.value_counts()"
   ]
  },
  {
   "cell_type": "markdown",
   "metadata": {},
   "source": [
    "Dropping the \"id_31\" and \"DeviceInfo\" columns as there are no meaningful way to encode the columns. "
   ]
  },
  {
   "cell_type": "code",
   "execution_count": 37,
   "metadata": {},
   "outputs": [],
   "source": [
    "tr_d_identity.drop(['id_31', 'DeviceInfo'], axis=1, inplace=True)"
   ]
  },
  {
   "cell_type": "code",
   "execution_count": 38,
   "metadata": {},
   "outputs": [],
   "source": [
    "tr_d_identity['id_12'] = tr_d_identity['id_12'].replace({'NotFound':0, 'Found':1})\n",
    "tr_d_identity['id_15'] = tr_d_identity['id_15'].replace({'Found':0, 'New':1, 'Unknown':-1})\n",
    "tr_d_identity['id_16'] = tr_d_identity['id_16'].replace({'NotFound':0, 'Found':1})\n",
    "tr_d_identity['id_28'] = tr_d_identity['id_28'].replace({'Found':0, 'New':1})\n",
    "tr_d_identity['id_29'] = tr_d_identity['id_29'].replace({'NotFound':0, 'Found':1})\n",
    "tr_d_identity['id_35'] = tr_d_identity['id_35'].replace({'F':0, 'T':1})\n",
    "tr_d_identity['id_36'] = tr_d_identity['id_36'].replace({'F':0, 'T':1})\n",
    "tr_d_identity['id_37'] = tr_d_identity['id_37'].replace({'F':0, 'T':1})\n",
    "tr_d_identity['id_38'] = tr_d_identity['id_38'].replace({'F':0, 'T':1})\n",
    "tr_d_identity['DeviceType'] = tr_d_identity['DeviceType'].replace({'mobile':0, 'desktop':1})"
   ]
  },
  {
   "cell_type": "markdown",
   "metadata": {},
   "source": [
    "Checking correlation using heatmap to reduce features for the training identity data."
   ]
  },
  {
   "cell_type": "code",
   "execution_count": 39,
   "metadata": {},
   "outputs": [
    {
     "data": {
      "text/plain": [
       "<AxesSubplot:>"
      ]
     },
     "execution_count": 39,
     "metadata": {},
     "output_type": "execute_result"
    },
    {
     "data": {
      "image/png": "[encoded data removed]",
      "text/plain": [
       "<Figure size 720x720 with 2 Axes>"
      ]
     },
     "metadata": {
      "needs_background": "light"
     },
     "output_type": "display_data"
    }
   ],
   "source": [
    "b=tr_d_identity[['id_12', 'id_15', 'id_16', 'id_28', 'id_29', 'id_35', 'id_36', 'id_37', 'id_38', 'DeviceType']].corr()[['id_12', 'id_15', 'id_16', 'id_28', 'id_29', \n",
    "                                                                                                                        'id_35', 'id_36', 'id_37', 'id_38', 'DeviceType']][:]\n",
    "plt.figure(figsize=(10,10))\n",
    "sns.heatmap(b, annot=True)"
   ]
  },
  {
   "cell_type": "code",
   "execution_count": 40,
   "metadata": {},
   "outputs": [],
   "source": [
    "tr_d_identity.drop(['id_16', 'id_28'], axis=1, inplace=True)"
   ]
  },
  {
   "cell_type": "markdown",
   "metadata": {},
   "source": [
    "## Replacing remaining null values with mean and mode in training identity data"
   ]
  },
  {
   "cell_type": "code",
   "execution_count": 41,
   "metadata": {},
   "outputs": [],
   "source": [
    "col_name_mode = ['id_15', 'id_29', 'id_35', 'id_36', 'id_37', 'id_38', 'DeviceType']\n",
    "\n",
    "for column in col_name_mode:\n",
    "    tr_d_identity[column].fillna(tr_d_identity[column].mode()[0], inplace=True)"
   ]
  },
  {
   "cell_type": "code",
   "execution_count": 42,
   "metadata": {},
   "outputs": [],
   "source": [
    "col_name_mean = ['id_02', 'id_05', 'id_06', 'id_11', 'id_13', 'id_17', 'id_19', 'id_20']\n",
    "\n",
    "for column in col_name_mean:\n",
    "    tr_d_identity[column].fillna(tr_d_identity[column].mean(), inplace=True)"
   ]
  },
  {
   "cell_type": "code",
   "execution_count": 43,
   "metadata": {},
   "outputs": [
    {
     "data": {
      "text/plain": [
       "TransactionID    0\n",
       "id_01            0\n",
       "id_02            0\n",
       "id_05            0\n",
       "id_06            0\n",
       "id_11            0\n",
       "id_12            0\n",
       "id_13            0\n",
       "id_15            0\n",
       "id_17            0\n",
       "id_19            0\n",
       "id_20            0\n",
       "id_29            0\n",
       "id_35            0\n",
       "id_36            0\n",
       "id_37            0\n",
       "id_38            0\n",
       "DeviceType       0\n",
       "dtype: int64"
      ]
     },
     "execution_count": 43,
     "metadata": {},
     "output_type": "execute_result"
    }
   ],
   "source": [
    "tr_d_identity.isnull().sum()"
   ]
  },
  {
   "cell_type": "markdown",
   "metadata": {},
   "source": [
    "## Joining training transaction and identity data"
   ]
  },
  {
   "cell_type": "code",
   "execution_count": 44,
   "metadata": {
    "scrolled": true
   },
   "outputs": [
    {
     "data": {
      "text/html": [
       "<div>\n",
       "<style scoped>\n",
       "    .dataframe tbody tr th:only-of-type {\n",
       "        vertical-align: middle;\n",
       "    }\n",
       "\n",
       "    .dataframe tbody tr th {\n",
       "        vertical-align: top;\n",
       "    }\n",
       "\n",
       "    .dataframe thead th {\n",
       "        text-align: right;\n",
       "    }\n",
       "</style>\n",
       "<table border=\"1\" class=\"dataframe\">\n",
       "  <thead>\n",
       "    <tr style=\"text-align: right;\">\n",
       "      <th></th>\n",
       "      <th>TransactionID</th>\n",
       "      <th>isFraud</th>\n",
       "      <th>TransactionDT</th>\n",
       "      <th>TransactionAmt</th>\n",
       "      <th>ProductCD</th>\n",
       "      <th>card1</th>\n",
       "      <th>card2</th>\n",
       "      <th>card3</th>\n",
       "      <th>card4</th>\n",
       "      <th>card5</th>\n",
       "      <th>...</th>\n",
       "      <th>id_15</th>\n",
       "      <th>id_17</th>\n",
       "      <th>id_19</th>\n",
       "      <th>id_20</th>\n",
       "      <th>id_29</th>\n",
       "      <th>id_35</th>\n",
       "      <th>id_36</th>\n",
       "      <th>id_37</th>\n",
       "      <th>id_38</th>\n",
       "      <th>DeviceType</th>\n",
       "    </tr>\n",
       "  </thead>\n",
       "  <tbody>\n",
       "    <tr>\n",
       "      <th>0</th>\n",
       "      <td>2987000</td>\n",
       "      <td>0</td>\n",
       "      <td>86400</td>\n",
       "      <td>68.50</td>\n",
       "      <td>0</td>\n",
       "      <td>13926</td>\n",
       "      <td>362.555488</td>\n",
       "      <td>150.0</td>\n",
       "      <td>3.0</td>\n",
       "      <td>142.0</td>\n",
       "      <td>...</td>\n",
       "      <td>NaN</td>\n",
       "      <td>NaN</td>\n",
       "      <td>NaN</td>\n",
       "      <td>NaN</td>\n",
       "      <td>NaN</td>\n",
       "      <td>NaN</td>\n",
       "      <td>NaN</td>\n",
       "      <td>NaN</td>\n",
       "      <td>NaN</td>\n",
       "      <td>NaN</td>\n",
       "    </tr>\n",
       "    <tr>\n",
       "      <th>1</th>\n",
       "      <td>2987001</td>\n",
       "      <td>0</td>\n",
       "      <td>86401</td>\n",
       "      <td>29.00</td>\n",
       "      <td>0</td>\n",
       "      <td>2755</td>\n",
       "      <td>404.000000</td>\n",
       "      <td>150.0</td>\n",
       "      <td>1.0</td>\n",
       "      <td>102.0</td>\n",
       "      <td>...</td>\n",
       "      <td>NaN</td>\n",
       "      <td>NaN</td>\n",
       "      <td>NaN</td>\n",
       "      <td>NaN</td>\n",
       "      <td>NaN</td>\n",
       "      <td>NaN</td>\n",
       "      <td>NaN</td>\n",
       "      <td>NaN</td>\n",
       "      <td>NaN</td>\n",
       "      <td>NaN</td>\n",
       "    </tr>\n",
       "    <tr>\n",
       "      <th>2</th>\n",
       "      <td>2987002</td>\n",
       "      <td>0</td>\n",
       "      <td>86469</td>\n",
       "      <td>59.00</td>\n",
       "      <td>0</td>\n",
       "      <td>4663</td>\n",
       "      <td>490.000000</td>\n",
       "      <td>150.0</td>\n",
       "      <td>0.0</td>\n",
       "      <td>166.0</td>\n",
       "      <td>...</td>\n",
       "      <td>NaN</td>\n",
       "      <td>NaN</td>\n",
       "      <td>NaN</td>\n",
       "      <td>NaN</td>\n",
       "      <td>NaN</td>\n",
       "      <td>NaN</td>\n",
       "      <td>NaN</td>\n",
       "      <td>NaN</td>\n",
       "      <td>NaN</td>\n",
       "      <td>NaN</td>\n",
       "    </tr>\n",
       "    <tr>\n",
       "      <th>3</th>\n",
       "      <td>2987003</td>\n",
       "      <td>0</td>\n",
       "      <td>86499</td>\n",
       "      <td>50.00</td>\n",
       "      <td>0</td>\n",
       "      <td>18132</td>\n",
       "      <td>567.000000</td>\n",
       "      <td>150.0</td>\n",
       "      <td>1.0</td>\n",
       "      <td>117.0</td>\n",
       "      <td>...</td>\n",
       "      <td>NaN</td>\n",
       "      <td>NaN</td>\n",
       "      <td>NaN</td>\n",
       "      <td>NaN</td>\n",
       "      <td>NaN</td>\n",
       "      <td>NaN</td>\n",
       "      <td>NaN</td>\n",
       "      <td>NaN</td>\n",
       "      <td>NaN</td>\n",
       "      <td>NaN</td>\n",
       "    </tr>\n",
       "    <tr>\n",
       "      <th>4</th>\n",
       "      <td>2987004</td>\n",
       "      <td>0</td>\n",
       "      <td>86506</td>\n",
       "      <td>50.00</td>\n",
       "      <td>3</td>\n",
       "      <td>4497</td>\n",
       "      <td>514.000000</td>\n",
       "      <td>150.0</td>\n",
       "      <td>1.0</td>\n",
       "      <td>102.0</td>\n",
       "      <td>...</td>\n",
       "      <td>1.0</td>\n",
       "      <td>166.0</td>\n",
       "      <td>542.0</td>\n",
       "      <td>144.0</td>\n",
       "      <td>0.0</td>\n",
       "      <td>1.0</td>\n",
       "      <td>0.0</td>\n",
       "      <td>1.0</td>\n",
       "      <td>1.0</td>\n",
       "      <td>0.0</td>\n",
       "    </tr>\n",
       "    <tr>\n",
       "      <th>...</th>\n",
       "      <td>...</td>\n",
       "      <td>...</td>\n",
       "      <td>...</td>\n",
       "      <td>...</td>\n",
       "      <td>...</td>\n",
       "      <td>...</td>\n",
       "      <td>...</td>\n",
       "      <td>...</td>\n",
       "      <td>...</td>\n",
       "      <td>...</td>\n",
       "      <td>...</td>\n",
       "      <td>...</td>\n",
       "      <td>...</td>\n",
       "      <td>...</td>\n",
       "      <td>...</td>\n",
       "      <td>...</td>\n",
       "      <td>...</td>\n",
       "      <td>...</td>\n",
       "      <td>...</td>\n",
       "      <td>...</td>\n",
       "      <td>...</td>\n",
       "    </tr>\n",
       "    <tr>\n",
       "      <th>590535</th>\n",
       "      <td>3577535</td>\n",
       "      <td>0</td>\n",
       "      <td>15811047</td>\n",
       "      <td>49.00</td>\n",
       "      <td>0</td>\n",
       "      <td>6550</td>\n",
       "      <td>362.555488</td>\n",
       "      <td>150.0</td>\n",
       "      <td>0.0</td>\n",
       "      <td>226.0</td>\n",
       "      <td>...</td>\n",
       "      <td>NaN</td>\n",
       "      <td>NaN</td>\n",
       "      <td>NaN</td>\n",
       "      <td>NaN</td>\n",
       "      <td>NaN</td>\n",
       "      <td>NaN</td>\n",
       "      <td>NaN</td>\n",
       "      <td>NaN</td>\n",
       "      <td>NaN</td>\n",
       "      <td>NaN</td>\n",
       "    </tr>\n",
       "    <tr>\n",
       "      <th>590536</th>\n",
       "      <td>3577536</td>\n",
       "      <td>0</td>\n",
       "      <td>15811049</td>\n",
       "      <td>39.50</td>\n",
       "      <td>0</td>\n",
       "      <td>10444</td>\n",
       "      <td>225.000000</td>\n",
       "      <td>150.0</td>\n",
       "      <td>1.0</td>\n",
       "      <td>224.0</td>\n",
       "      <td>...</td>\n",
       "      <td>NaN</td>\n",
       "      <td>NaN</td>\n",
       "      <td>NaN</td>\n",
       "      <td>NaN</td>\n",
       "      <td>NaN</td>\n",
       "      <td>NaN</td>\n",
       "      <td>NaN</td>\n",
       "      <td>NaN</td>\n",
       "      <td>NaN</td>\n",
       "      <td>NaN</td>\n",
       "    </tr>\n",
       "    <tr>\n",
       "      <th>590537</th>\n",
       "      <td>3577537</td>\n",
       "      <td>0</td>\n",
       "      <td>15811079</td>\n",
       "      <td>30.95</td>\n",
       "      <td>0</td>\n",
       "      <td>12037</td>\n",
       "      <td>595.000000</td>\n",
       "      <td>150.0</td>\n",
       "      <td>1.0</td>\n",
       "      <td>224.0</td>\n",
       "      <td>...</td>\n",
       "      <td>NaN</td>\n",
       "      <td>NaN</td>\n",
       "      <td>NaN</td>\n",
       "      <td>NaN</td>\n",
       "      <td>NaN</td>\n",
       "      <td>NaN</td>\n",
       "      <td>NaN</td>\n",
       "      <td>NaN</td>\n",
       "      <td>NaN</td>\n",
       "      <td>NaN</td>\n",
       "    </tr>\n",
       "    <tr>\n",
       "      <th>590538</th>\n",
       "      <td>3577538</td>\n",
       "      <td>0</td>\n",
       "      <td>15811088</td>\n",
       "      <td>117.00</td>\n",
       "      <td>0</td>\n",
       "      <td>7826</td>\n",
       "      <td>481.000000</td>\n",
       "      <td>150.0</td>\n",
       "      <td>1.0</td>\n",
       "      <td>224.0</td>\n",
       "      <td>...</td>\n",
       "      <td>NaN</td>\n",
       "      <td>NaN</td>\n",
       "      <td>NaN</td>\n",
       "      <td>NaN</td>\n",
       "      <td>NaN</td>\n",
       "      <td>NaN</td>\n",
       "      <td>NaN</td>\n",
       "      <td>NaN</td>\n",
       "      <td>NaN</td>\n",
       "      <td>NaN</td>\n",
       "    </tr>\n",
       "    <tr>\n",
       "      <th>590539</th>\n",
       "      <td>3577539</td>\n",
       "      <td>0</td>\n",
       "      <td>15811131</td>\n",
       "      <td>279.95</td>\n",
       "      <td>0</td>\n",
       "      <td>15066</td>\n",
       "      <td>170.000000</td>\n",
       "      <td>150.0</td>\n",
       "      <td>1.0</td>\n",
       "      <td>102.0</td>\n",
       "      <td>...</td>\n",
       "      <td>NaN</td>\n",
       "      <td>NaN</td>\n",
       "      <td>NaN</td>\n",
       "      <td>NaN</td>\n",
       "      <td>NaN</td>\n",
       "      <td>NaN</td>\n",
       "      <td>NaN</td>\n",
       "      <td>NaN</td>\n",
       "      <td>NaN</td>\n",
       "      <td>NaN</td>\n",
       "    </tr>\n",
       "  </tbody>\n",
       "</table>\n",
       "<p>590540 rows × 129 columns</p>\n",
       "</div>"
      ],
      "text/plain": [
       "        TransactionID  isFraud  TransactionDT  TransactionAmt  ProductCD  \\\n",
       "0             2987000        0          86400           68.50          0   \n",
       "1             2987001        0          86401           29.00          0   \n",
       "2             2987002        0          86469           59.00          0   \n",
       "3             2987003        0          86499           50.00          0   \n",
       "4             2987004        0          86506           50.00          3   \n",
       "...               ...      ...            ...             ...        ...   \n",
       "590535        3577535        0       15811047           49.00          0   \n",
       "590536        3577536        0       15811049           39.50          0   \n",
       "590537        3577537        0       15811079           30.95          0   \n",
       "590538        3577538        0       15811088          117.00          0   \n",
       "590539        3577539        0       15811131          279.95          0   \n",
       "\n",
       "        card1       card2  card3  card4  card5  ...  id_15  id_17  id_19  \\\n",
       "0       13926  362.555488  150.0    3.0  142.0  ...    NaN    NaN    NaN   \n",
       "1        2755  404.000000  150.0    1.0  102.0  ...    NaN    NaN    NaN   \n",
       "2        4663  490.000000  150.0    0.0  166.0  ...    NaN    NaN    NaN   \n",
       "3       18132  567.000000  150.0    1.0  117.0  ...    NaN    NaN    NaN   \n",
       "4        4497  514.000000  150.0    1.0  102.0  ...    1.0  166.0  542.0   \n",
       "...       ...         ...    ...    ...    ...  ...    ...    ...    ...   \n",
       "590535   6550  362.555488  150.0    0.0  226.0  ...    NaN    NaN    NaN   \n",
       "590536  10444  225.000000  150.0    1.0  224.0  ...    NaN    NaN    NaN   \n",
       "590537  12037  595.000000  150.0    1.0  224.0  ...    NaN    NaN    NaN   \n",
       "590538   7826  481.000000  150.0    1.0  224.0  ...    NaN    NaN    NaN   \n",
       "590539  15066  170.000000  150.0    1.0  102.0  ...    NaN    NaN    NaN   \n",
       "\n",
       "        id_20  id_29  id_35  id_36  id_37  id_38  DeviceType  \n",
       "0         NaN    NaN    NaN    NaN    NaN    NaN         NaN  \n",
       "1         NaN    NaN    NaN    NaN    NaN    NaN         NaN  \n",
       "2         NaN    NaN    NaN    NaN    NaN    NaN         NaN  \n",
       "3         NaN    NaN    NaN    NaN    NaN    NaN         NaN  \n",
       "4       144.0    0.0    1.0    0.0    1.0    1.0         0.0  \n",
       "...       ...    ...    ...    ...    ...    ...         ...  \n",
       "590535    NaN    NaN    NaN    NaN    NaN    NaN         NaN  \n",
       "590536    NaN    NaN    NaN    NaN    NaN    NaN         NaN  \n",
       "590537    NaN    NaN    NaN    NaN    NaN    NaN         NaN  \n",
       "590538    NaN    NaN    NaN    NaN    NaN    NaN         NaN  \n",
       "590539    NaN    NaN    NaN    NaN    NaN    NaN         NaN  \n",
       "\n",
       "[590540 rows x 129 columns]"
      ]
     },
     "execution_count": 44,
     "metadata": {},
     "output_type": "execute_result"
    }
   ],
   "source": [
    "tr_join_left = pd.merge(tr_d_transaction, tr_d_identity, how=\"left\", on='TransactionID')\n",
    "tr_join_left"
   ]
  },
  {
   "cell_type": "markdown",
   "metadata": {},
   "source": [
    "Dropping the columns with over 100000 null values after merging."
   ]
  },
  {
   "cell_type": "code",
   "execution_count": 45,
   "metadata": {},
   "outputs": [],
   "source": [
    "d = tr_join_left.isnull().sum()> 100000\n",
    "fourth_drop_list = list(d[d].index)\n",
    "tr_join_left.drop(fourth_drop_list, axis=1, inplace=True)"
   ]
  },
  {
   "cell_type": "code",
   "execution_count": 46,
   "metadata": {},
   "outputs": [],
   "source": [
    "tr_join_left.drop(['TransactionID'], axis=1, inplace=True)"
   ]
  },
  {
   "cell_type": "markdown",
   "metadata": {},
   "source": [
    "## Checking test transaction and training data metrics "
   ]
  },
  {
   "cell_type": "code",
   "execution_count": 47,
   "metadata": {},
   "outputs": [
    {
     "data": {
      "text/html": [
       "<div>\n",
       "<style scoped>\n",
       "    .dataframe tbody tr th:only-of-type {\n",
       "        vertical-align: middle;\n",
       "    }\n",
       "\n",
       "    .dataframe tbody tr th {\n",
       "        vertical-align: top;\n",
       "    }\n",
       "\n",
       "    .dataframe thead th {\n",
       "        text-align: right;\n",
       "    }\n",
       "</style>\n",
       "<table border=\"1\" class=\"dataframe\">\n",
       "  <thead>\n",
       "    <tr style=\"text-align: right;\">\n",
       "      <th></th>\n",
       "      <th>TransactionID</th>\n",
       "      <th>TransactionDT</th>\n",
       "      <th>TransactionAmt</th>\n",
       "      <th>card1</th>\n",
       "      <th>card2</th>\n",
       "      <th>card3</th>\n",
       "      <th>card5</th>\n",
       "      <th>addr1</th>\n",
       "      <th>addr2</th>\n",
       "      <th>dist1</th>\n",
       "      <th>...</th>\n",
       "      <th>V330</th>\n",
       "      <th>V331</th>\n",
       "      <th>V332</th>\n",
       "      <th>V333</th>\n",
       "      <th>V334</th>\n",
       "      <th>V335</th>\n",
       "      <th>V336</th>\n",
       "      <th>V337</th>\n",
       "      <th>V338</th>\n",
       "      <th>V339</th>\n",
       "    </tr>\n",
       "  </thead>\n",
       "  <tbody>\n",
       "    <tr>\n",
       "      <th>count</th>\n",
       "      <td>5.066910e+05</td>\n",
       "      <td>5.066910e+05</td>\n",
       "      <td>506691.000000</td>\n",
       "      <td>506691.000000</td>\n",
       "      <td>498037.000000</td>\n",
       "      <td>503689.000000</td>\n",
       "      <td>502144.000000</td>\n",
       "      <td>441082.000000</td>\n",
       "      <td>441082.000000</td>\n",
       "      <td>215474.000000</td>\n",
       "      <td>...</td>\n",
       "      <td>76431.000000</td>\n",
       "      <td>7.643100e+04</td>\n",
       "      <td>7.643100e+04</td>\n",
       "      <td>7.643100e+04</td>\n",
       "      <td>76431.000000</td>\n",
       "      <td>76431.000000</td>\n",
       "      <td>76431.000000</td>\n",
       "      <td>76431.000000</td>\n",
       "      <td>76431.000000</td>\n",
       "      <td>76431.000000</td>\n",
       "    </tr>\n",
       "    <tr>\n",
       "      <th>mean</th>\n",
       "      <td>3.916894e+06</td>\n",
       "      <td>2.692994e+07</td>\n",
       "      <td>134.725568</td>\n",
       "      <td>9957.222175</td>\n",
       "      <td>363.735379</td>\n",
       "      <td>153.543409</td>\n",
       "      <td>200.162975</td>\n",
       "      <td>291.846514</td>\n",
       "      <td>86.723412</td>\n",
       "      <td>87.065270</td>\n",
       "      <td>...</td>\n",
       "      <td>0.309900</td>\n",
       "      <td>3.151286e+02</td>\n",
       "      <td>4.404643e+02</td>\n",
       "      <td>3.811021e+02</td>\n",
       "      <td>24.708030</td>\n",
       "      <td>58.339468</td>\n",
       "      <td>35.485643</td>\n",
       "      <td>99.058760</td>\n",
       "      <td>155.578153</td>\n",
       "      <td>139.814706</td>\n",
       "    </tr>\n",
       "    <tr>\n",
       "      <th>std</th>\n",
       "      <td>1.462692e+05</td>\n",
       "      <td>4.756507e+06</td>\n",
       "      <td>245.779822</td>\n",
       "      <td>4884.960969</td>\n",
       "      <td>158.688653</td>\n",
       "      <td>12.443013</td>\n",
       "      <td>40.562461</td>\n",
       "      <td>102.062730</td>\n",
       "      <td>2.987328</td>\n",
       "      <td>314.131694</td>\n",
       "      <td>...</td>\n",
       "      <td>2.632181</td>\n",
       "      <td>9.494045e+03</td>\n",
       "      <td>1.064843e+04</td>\n",
       "      <td>1.039556e+04</td>\n",
       "      <td>842.913287</td>\n",
       "      <td>990.361078</td>\n",
       "      <td>904.093921</td>\n",
       "      <td>2436.074522</td>\n",
       "      <td>4544.303974</td>\n",
       "      <td>4493.728267</td>\n",
       "    </tr>\n",
       "    <tr>\n",
       "      <th>min</th>\n",
       "      <td>3.663549e+06</td>\n",
       "      <td>1.840322e+07</td>\n",
       "      <td>0.018000</td>\n",
       "      <td>1001.000000</td>\n",
       "      <td>100.000000</td>\n",
       "      <td>100.000000</td>\n",
       "      <td>100.000000</td>\n",
       "      <td>100.000000</td>\n",
       "      <td>10.000000</td>\n",
       "      <td>0.000000</td>\n",
       "      <td>...</td>\n",
       "      <td>0.000000</td>\n",
       "      <td>0.000000e+00</td>\n",
       "      <td>0.000000e+00</td>\n",
       "      <td>0.000000e+00</td>\n",
       "      <td>0.000000</td>\n",
       "      <td>0.000000</td>\n",
       "      <td>0.000000</td>\n",
       "      <td>0.000000</td>\n",
       "      <td>0.000000</td>\n",
       "      <td>0.000000</td>\n",
       "    </tr>\n",
       "    <tr>\n",
       "      <th>25%</th>\n",
       "      <td>3.790222e+06</td>\n",
       "      <td>2.277154e+07</td>\n",
       "      <td>40.000000</td>\n",
       "      <td>6019.000000</td>\n",
       "      <td>207.000000</td>\n",
       "      <td>150.000000</td>\n",
       "      <td>166.000000</td>\n",
       "      <td>204.000000</td>\n",
       "      <td>87.000000</td>\n",
       "      <td>3.000000</td>\n",
       "      <td>...</td>\n",
       "      <td>0.000000</td>\n",
       "      <td>0.000000e+00</td>\n",
       "      <td>0.000000e+00</td>\n",
       "      <td>0.000000e+00</td>\n",
       "      <td>0.000000</td>\n",
       "      <td>0.000000</td>\n",
       "      <td>0.000000</td>\n",
       "      <td>0.000000</td>\n",
       "      <td>0.000000</td>\n",
       "      <td>0.000000</td>\n",
       "    </tr>\n",
       "    <tr>\n",
       "      <th>50%</th>\n",
       "      <td>3.916894e+06</td>\n",
       "      <td>2.720466e+07</td>\n",
       "      <td>67.950000</td>\n",
       "      <td>9803.000000</td>\n",
       "      <td>369.000000</td>\n",
       "      <td>150.000000</td>\n",
       "      <td>226.000000</td>\n",
       "      <td>299.000000</td>\n",
       "      <td>87.000000</td>\n",
       "      <td>8.000000</td>\n",
       "      <td>...</td>\n",
       "      <td>0.000000</td>\n",
       "      <td>0.000000e+00</td>\n",
       "      <td>0.000000e+00</td>\n",
       "      <td>0.000000e+00</td>\n",
       "      <td>0.000000</td>\n",
       "      <td>0.000000</td>\n",
       "      <td>0.000000</td>\n",
       "      <td>0.000000</td>\n",
       "      <td>0.000000</td>\n",
       "      <td>0.000000</td>\n",
       "    </tr>\n",
       "    <tr>\n",
       "      <th>75%</th>\n",
       "      <td>4.043566e+06</td>\n",
       "      <td>3.134856e+07</td>\n",
       "      <td>125.000000</td>\n",
       "      <td>14276.000000</td>\n",
       "      <td>512.000000</td>\n",
       "      <td>150.000000</td>\n",
       "      <td>226.000000</td>\n",
       "      <td>330.000000</td>\n",
       "      <td>87.000000</td>\n",
       "      <td>20.000000</td>\n",
       "      <td>...</td>\n",
       "      <td>0.000000</td>\n",
       "      <td>0.000000e+00</td>\n",
       "      <td>0.000000e+00</td>\n",
       "      <td>0.000000e+00</td>\n",
       "      <td>0.000000</td>\n",
       "      <td>0.000000</td>\n",
       "      <td>0.000000</td>\n",
       "      <td>0.000000</td>\n",
       "      <td>0.000000</td>\n",
       "      <td>0.000000</td>\n",
       "    </tr>\n",
       "    <tr>\n",
       "      <th>max</th>\n",
       "      <td>4.170239e+06</td>\n",
       "      <td>3.421434e+07</td>\n",
       "      <td>10270.000000</td>\n",
       "      <td>18397.000000</td>\n",
       "      <td>600.000000</td>\n",
       "      <td>232.000000</td>\n",
       "      <td>237.000000</td>\n",
       "      <td>540.000000</td>\n",
       "      <td>102.000000</td>\n",
       "      <td>8081.000000</td>\n",
       "      <td>...</td>\n",
       "      <td>106.000000</td>\n",
       "      <td>1.040658e+06</td>\n",
       "      <td>1.040658e+06</td>\n",
       "      <td>1.040658e+06</td>\n",
       "      <td>64800.000000</td>\n",
       "      <td>64800.000000</td>\n",
       "      <td>64800.000000</td>\n",
       "      <td>375000.000000</td>\n",
       "      <td>612500.000000</td>\n",
       "      <td>612500.000000</td>\n",
       "    </tr>\n",
       "  </tbody>\n",
       "</table>\n",
       "<p>8 rows × 379 columns</p>\n",
       "</div>"
      ],
      "text/plain": [
       "       TransactionID  TransactionDT  TransactionAmt          card1  \\\n",
       "count   5.066910e+05   5.066910e+05   506691.000000  506691.000000   \n",
       "mean    3.916894e+06   2.692994e+07      134.725568    9957.222175   \n",
       "std     1.462692e+05   4.756507e+06      245.779822    4884.960969   \n",
       "min     3.663549e+06   1.840322e+07        0.018000    1001.000000   \n",
       "25%     3.790222e+06   2.277154e+07       40.000000    6019.000000   \n",
       "50%     3.916894e+06   2.720466e+07       67.950000    9803.000000   \n",
       "75%     4.043566e+06   3.134856e+07      125.000000   14276.000000   \n",
       "max     4.170239e+06   3.421434e+07    10270.000000   18397.000000   \n",
       "\n",
       "               card2          card3          card5          addr1  \\\n",
       "count  498037.000000  503689.000000  502144.000000  441082.000000   \n",
       "mean      363.735379     153.543409     200.162975     291.846514   \n",
       "std       158.688653      12.443013      40.562461     102.062730   \n",
       "min       100.000000     100.000000     100.000000     100.000000   \n",
       "25%       207.000000     150.000000     166.000000     204.000000   \n",
       "50%       369.000000     150.000000     226.000000     299.000000   \n",
       "75%       512.000000     150.000000     226.000000     330.000000   \n",
       "max       600.000000     232.000000     237.000000     540.000000   \n",
       "\n",
       "               addr2          dist1  ...          V330          V331  \\\n",
       "count  441082.000000  215474.000000  ...  76431.000000  7.643100e+04   \n",
       "mean       86.723412      87.065270  ...      0.309900  3.151286e+02   \n",
       "std         2.987328     314.131694  ...      2.632181  9.494045e+03   \n",
       "min        10.000000       0.000000  ...      0.000000  0.000000e+00   \n",
       "25%        87.000000       3.000000  ...      0.000000  0.000000e+00   \n",
       "50%        87.000000       8.000000  ...      0.000000  0.000000e+00   \n",
       "75%        87.000000      20.000000  ...      0.000000  0.000000e+00   \n",
       "max       102.000000    8081.000000  ...    106.000000  1.040658e+06   \n",
       "\n",
       "               V332          V333          V334          V335          V336  \\\n",
       "count  7.643100e+04  7.643100e+04  76431.000000  76431.000000  76431.000000   \n",
       "mean   4.404643e+02  3.811021e+02     24.708030     58.339468     35.485643   \n",
       "std    1.064843e+04  1.039556e+04    842.913287    990.361078    904.093921   \n",
       "min    0.000000e+00  0.000000e+00      0.000000      0.000000      0.000000   \n",
       "25%    0.000000e+00  0.000000e+00      0.000000      0.000000      0.000000   \n",
       "50%    0.000000e+00  0.000000e+00      0.000000      0.000000      0.000000   \n",
       "75%    0.000000e+00  0.000000e+00      0.000000      0.000000      0.000000   \n",
       "max    1.040658e+06  1.040658e+06  64800.000000  64800.000000  64800.000000   \n",
       "\n",
       "                V337           V338           V339  \n",
       "count   76431.000000   76431.000000   76431.000000  \n",
       "mean       99.058760     155.578153     139.814706  \n",
       "std      2436.074522    4544.303974    4493.728267  \n",
       "min         0.000000       0.000000       0.000000  \n",
       "25%         0.000000       0.000000       0.000000  \n",
       "50%         0.000000       0.000000       0.000000  \n",
       "75%         0.000000       0.000000       0.000000  \n",
       "max    375000.000000  612500.000000  612500.000000  \n",
       "\n",
       "[8 rows x 379 columns]"
      ]
     },
     "execution_count": 47,
     "metadata": {},
     "output_type": "execute_result"
    }
   ],
   "source": [
    "t_d_transaction.describe()"
   ]
  },
  {
   "cell_type": "code",
   "execution_count": 48,
   "metadata": {},
   "outputs": [
    {
     "data": {
      "text/html": [
       "<div>\n",
       "<style scoped>\n",
       "    .dataframe tbody tr th:only-of-type {\n",
       "        vertical-align: middle;\n",
       "    }\n",
       "\n",
       "    .dataframe tbody tr th {\n",
       "        vertical-align: top;\n",
       "    }\n",
       "\n",
       "    .dataframe thead th {\n",
       "        text-align: right;\n",
       "    }\n",
       "</style>\n",
       "<table border=\"1\" class=\"dataframe\">\n",
       "  <thead>\n",
       "    <tr style=\"text-align: right;\">\n",
       "      <th></th>\n",
       "      <th>TransactionID</th>\n",
       "      <th>id-01</th>\n",
       "      <th>id-02</th>\n",
       "      <th>id-03</th>\n",
       "      <th>id-04</th>\n",
       "      <th>id-05</th>\n",
       "      <th>id-06</th>\n",
       "      <th>id-07</th>\n",
       "      <th>id-08</th>\n",
       "      <th>id-09</th>\n",
       "      <th>...</th>\n",
       "      <th>id-17</th>\n",
       "      <th>id-18</th>\n",
       "      <th>id-19</th>\n",
       "      <th>id-20</th>\n",
       "      <th>id-21</th>\n",
       "      <th>id-22</th>\n",
       "      <th>id-24</th>\n",
       "      <th>id-25</th>\n",
       "      <th>id-26</th>\n",
       "      <th>id-32</th>\n",
       "    </tr>\n",
       "  </thead>\n",
       "  <tbody>\n",
       "    <tr>\n",
       "      <th>count</th>\n",
       "      <td>1.419070e+05</td>\n",
       "      <td>141907.000000</td>\n",
       "      <td>136976.000000</td>\n",
       "      <td>66481.000000</td>\n",
       "      <td>66481.000000</td>\n",
       "      <td>134750.000000</td>\n",
       "      <td>134750.000000</td>\n",
       "      <td>5059.000000</td>\n",
       "      <td>5059.000000</td>\n",
       "      <td>74338.000000</td>\n",
       "      <td>...</td>\n",
       "      <td>135966.000000</td>\n",
       "      <td>50875.000000</td>\n",
       "      <td>135906.000000</td>\n",
       "      <td>135633.000000</td>\n",
       "      <td>5059.000000</td>\n",
       "      <td>5062.000000</td>\n",
       "      <td>4740.000000</td>\n",
       "      <td>5039.000000</td>\n",
       "      <td>5047.000000</td>\n",
       "      <td>70671.000000</td>\n",
       "    </tr>\n",
       "    <tr>\n",
       "      <th>mean</th>\n",
       "      <td>3.972166e+06</td>\n",
       "      <td>-11.325734</td>\n",
       "      <td>192658.729909</td>\n",
       "      <td>0.053008</td>\n",
       "      <td>-0.087454</td>\n",
       "      <td>1.246033</td>\n",
       "      <td>-6.803829</td>\n",
       "      <td>12.493180</td>\n",
       "      <td>-36.577782</td>\n",
       "      <td>0.076219</td>\n",
       "      <td>...</td>\n",
       "      <td>191.070341</td>\n",
       "      <td>14.795735</td>\n",
       "      <td>350.122982</td>\n",
       "      <td>408.886230</td>\n",
       "      <td>507.727021</td>\n",
       "      <td>15.336823</td>\n",
       "      <td>13.166667</td>\n",
       "      <td>332.043064</td>\n",
       "      <td>152.752923</td>\n",
       "      <td>26.217939</td>\n",
       "    </tr>\n",
       "    <tr>\n",
       "      <th>std</th>\n",
       "      <td>1.469966e+05</td>\n",
       "      <td>14.508520</td>\n",
       "      <td>182613.277215</td>\n",
       "      <td>0.684551</td>\n",
       "      <td>0.840351</td>\n",
       "      <td>5.071394</td>\n",
       "      <td>15.921457</td>\n",
       "      <td>11.678206</td>\n",
       "      <td>25.544185</td>\n",
       "      <td>1.009687</td>\n",
       "      <td>...</td>\n",
       "      <td>30.749535</td>\n",
       "      <td>2.318496</td>\n",
       "      <td>139.140824</td>\n",
       "      <td>158.971756</td>\n",
       "      <td>227.371061</td>\n",
       "      <td>5.618032</td>\n",
       "      <td>3.222440</td>\n",
       "      <td>86.356683</td>\n",
       "      <td>31.916995</td>\n",
       "      <td>3.601046</td>\n",
       "    </tr>\n",
       "    <tr>\n",
       "      <th>min</th>\n",
       "      <td>3.663586e+06</td>\n",
       "      <td>-100.000000</td>\n",
       "      <td>2.000000</td>\n",
       "      <td>-12.000000</td>\n",
       "      <td>-19.000000</td>\n",
       "      <td>-81.000000</td>\n",
       "      <td>-100.000000</td>\n",
       "      <td>-41.000000</td>\n",
       "      <td>-100.000000</td>\n",
       "      <td>-32.000000</td>\n",
       "      <td>...</td>\n",
       "      <td>100.000000</td>\n",
       "      <td>11.000000</td>\n",
       "      <td>100.000000</td>\n",
       "      <td>100.000000</td>\n",
       "      <td>100.000000</td>\n",
       "      <td>11.000000</td>\n",
       "      <td>10.000000</td>\n",
       "      <td>100.000000</td>\n",
       "      <td>100.000000</td>\n",
       "      <td>8.000000</td>\n",
       "    </tr>\n",
       "    <tr>\n",
       "      <th>25%</th>\n",
       "      <td>3.859268e+06</td>\n",
       "      <td>-12.500000</td>\n",
       "      <td>63339.500000</td>\n",
       "      <td>0.000000</td>\n",
       "      <td>0.000000</td>\n",
       "      <td>0.000000</td>\n",
       "      <td>-6.000000</td>\n",
       "      <td>3.000000</td>\n",
       "      <td>-46.000000</td>\n",
       "      <td>0.000000</td>\n",
       "      <td>...</td>\n",
       "      <td>166.000000</td>\n",
       "      <td>13.000000</td>\n",
       "      <td>266.000000</td>\n",
       "      <td>256.000000</td>\n",
       "      <td>252.000000</td>\n",
       "      <td>14.000000</td>\n",
       "      <td>11.000000</td>\n",
       "      <td>321.000000</td>\n",
       "      <td>137.000000</td>\n",
       "      <td>24.000000</td>\n",
       "    </tr>\n",
       "    <tr>\n",
       "      <th>50%</th>\n",
       "      <td>4.001774e+06</td>\n",
       "      <td>-5.000000</td>\n",
       "      <td>133189.500000</td>\n",
       "      <td>0.000000</td>\n",
       "      <td>0.000000</td>\n",
       "      <td>0.000000</td>\n",
       "      <td>0.000000</td>\n",
       "      <td>12.000000</td>\n",
       "      <td>-33.000000</td>\n",
       "      <td>0.000000</td>\n",
       "      <td>...</td>\n",
       "      <td>166.000000</td>\n",
       "      <td>15.000000</td>\n",
       "      <td>321.000000</td>\n",
       "      <td>484.000000</td>\n",
       "      <td>576.000000</td>\n",
       "      <td>14.000000</td>\n",
       "      <td>11.000000</td>\n",
       "      <td>321.000000</td>\n",
       "      <td>147.000000</td>\n",
       "      <td>24.000000</td>\n",
       "    </tr>\n",
       "    <tr>\n",
       "      <th>75%</th>\n",
       "      <td>4.105284e+06</td>\n",
       "      <td>-5.000000</td>\n",
       "      <td>265717.500000</td>\n",
       "      <td>0.000000</td>\n",
       "      <td>0.000000</td>\n",
       "      <td>1.000000</td>\n",
       "      <td>0.000000</td>\n",
       "      <td>21.000000</td>\n",
       "      <td>-23.000000</td>\n",
       "      <td>0.000000</td>\n",
       "      <td>...</td>\n",
       "      <td>225.000000</td>\n",
       "      <td>15.000000</td>\n",
       "      <td>427.000000</td>\n",
       "      <td>549.000000</td>\n",
       "      <td>711.000000</td>\n",
       "      <td>14.000000</td>\n",
       "      <td>15.000000</td>\n",
       "      <td>355.000000</td>\n",
       "      <td>182.000000</td>\n",
       "      <td>32.000000</td>\n",
       "    </tr>\n",
       "    <tr>\n",
       "      <th>max</th>\n",
       "      <td>4.170239e+06</td>\n",
       "      <td>0.000000</td>\n",
       "      <td>999869.000000</td>\n",
       "      <td>11.000000</td>\n",
       "      <td>0.000000</td>\n",
       "      <td>52.000000</td>\n",
       "      <td>0.000000</td>\n",
       "      <td>59.000000</td>\n",
       "      <td>0.000000</td>\n",
       "      <td>16.000000</td>\n",
       "      <td>...</td>\n",
       "      <td>228.000000</td>\n",
       "      <td>29.000000</td>\n",
       "      <td>670.000000</td>\n",
       "      <td>660.000000</td>\n",
       "      <td>854.000000</td>\n",
       "      <td>44.000000</td>\n",
       "      <td>26.000000</td>\n",
       "      <td>549.000000</td>\n",
       "      <td>216.000000</td>\n",
       "      <td>48.000000</td>\n",
       "    </tr>\n",
       "  </tbody>\n",
       "</table>\n",
       "<p>8 rows × 24 columns</p>\n",
       "</div>"
      ],
      "text/plain": [
       "       TransactionID          id-01          id-02         id-03  \\\n",
       "count   1.419070e+05  141907.000000  136976.000000  66481.000000   \n",
       "mean    3.972166e+06     -11.325734  192658.729909      0.053008   \n",
       "std     1.469966e+05      14.508520  182613.277215      0.684551   \n",
       "min     3.663586e+06    -100.000000       2.000000    -12.000000   \n",
       "25%     3.859268e+06     -12.500000   63339.500000      0.000000   \n",
       "50%     4.001774e+06      -5.000000  133189.500000      0.000000   \n",
       "75%     4.105284e+06      -5.000000  265717.500000      0.000000   \n",
       "max     4.170239e+06       0.000000  999869.000000     11.000000   \n",
       "\n",
       "              id-04          id-05          id-06        id-07        id-08  \\\n",
       "count  66481.000000  134750.000000  134750.000000  5059.000000  5059.000000   \n",
       "mean      -0.087454       1.246033      -6.803829    12.493180   -36.577782   \n",
       "std        0.840351       5.071394      15.921457    11.678206    25.544185   \n",
       "min      -19.000000     -81.000000    -100.000000   -41.000000  -100.000000   \n",
       "25%        0.000000       0.000000      -6.000000     3.000000   -46.000000   \n",
       "50%        0.000000       0.000000       0.000000    12.000000   -33.000000   \n",
       "75%        0.000000       1.000000       0.000000    21.000000   -23.000000   \n",
       "max        0.000000      52.000000       0.000000    59.000000     0.000000   \n",
       "\n",
       "              id-09  ...          id-17         id-18          id-19  \\\n",
       "count  74338.000000  ...  135966.000000  50875.000000  135906.000000   \n",
       "mean       0.076219  ...     191.070341     14.795735     350.122982   \n",
       "std        1.009687  ...      30.749535      2.318496     139.140824   \n",
       "min      -32.000000  ...     100.000000     11.000000     100.000000   \n",
       "25%        0.000000  ...     166.000000     13.000000     266.000000   \n",
       "50%        0.000000  ...     166.000000     15.000000     321.000000   \n",
       "75%        0.000000  ...     225.000000     15.000000     427.000000   \n",
       "max       16.000000  ...     228.000000     29.000000     670.000000   \n",
       "\n",
       "               id-20        id-21        id-22        id-24        id-25  \\\n",
       "count  135633.000000  5059.000000  5062.000000  4740.000000  5039.000000   \n",
       "mean      408.886230   507.727021    15.336823    13.166667   332.043064   \n",
       "std       158.971756   227.371061     5.618032     3.222440    86.356683   \n",
       "min       100.000000   100.000000    11.000000    10.000000   100.000000   \n",
       "25%       256.000000   252.000000    14.000000    11.000000   321.000000   \n",
       "50%       484.000000   576.000000    14.000000    11.000000   321.000000   \n",
       "75%       549.000000   711.000000    14.000000    15.000000   355.000000   \n",
       "max       660.000000   854.000000    44.000000    26.000000   549.000000   \n",
       "\n",
       "             id-26         id-32  \n",
       "count  5047.000000  70671.000000  \n",
       "mean    152.752923     26.217939  \n",
       "std      31.916995      3.601046  \n",
       "min     100.000000      8.000000  \n",
       "25%     137.000000     24.000000  \n",
       "50%     147.000000     24.000000  \n",
       "75%     182.000000     32.000000  \n",
       "max     216.000000     48.000000  \n",
       "\n",
       "[8 rows x 24 columns]"
      ]
     },
     "execution_count": 48,
     "metadata": {},
     "output_type": "execute_result"
    }
   ],
   "source": [
    "t_d_identity.describe()"
   ]
  },
  {
   "cell_type": "markdown",
   "metadata": {},
   "source": [
    "## Checking the null values within transaction and identity data"
   ]
  },
  {
   "cell_type": "code",
   "execution_count": 49,
   "metadata": {
    "scrolled": true
   },
   "outputs": [
    {
     "data": {
      "text/plain": [
       "TransactionID         0\n",
       "id-01                 0\n",
       "id-02              4931\n",
       "id-03             75426\n",
       "id-04             75426\n",
       "id-05              7157\n",
       "id-06              7157\n",
       "id-07            136848\n",
       "id-08            136848\n",
       "id-09             67569\n",
       "id-10             67569\n",
       "id-11              5129\n",
       "id-12                 0\n",
       "id-13             11621\n",
       "id-14             70550\n",
       "id-15              4930\n",
       "id-16             16160\n",
       "id-17              5941\n",
       "id-18             91032\n",
       "id-19              6001\n",
       "id-20              6274\n",
       "id-21            136848\n",
       "id-22            136845\n",
       "id-23            136845\n",
       "id-24            137167\n",
       "id-25            136868\n",
       "id-26            136860\n",
       "id-27            136845\n",
       "id-28              5129\n",
       "id-29              5129\n",
       "id-30             71248\n",
       "id-31              5282\n",
       "id-32             71236\n",
       "id-33             71236\n",
       "id-34             69732\n",
       "id-35              4930\n",
       "id-36              4930\n",
       "id-37              4930\n",
       "id-38              4930\n",
       "DeviceType         4976\n",
       "DeviceInfo        26850\n",
       "dtype: int64"
      ]
     },
     "execution_count": 49,
     "metadata": {},
     "output_type": "execute_result"
    }
   ],
   "source": [
    "t_d_identity.isnull().sum()"
   ]
  },
  {
   "cell_type": "code",
   "execution_count": 50,
   "metadata": {
    "scrolled": true
   },
   "outputs": [
    {
     "data": {
      "text/plain": [
       "TransactionID          0\n",
       "TransactionDT          0\n",
       "TransactionAmt         0\n",
       "ProductCD              0\n",
       "card1                  0\n",
       "                   ...  \n",
       "V335              430260\n",
       "V336              430260\n",
       "V337              430260\n",
       "V338              430260\n",
       "V339              430260\n",
       "Length: 393, dtype: int64"
      ]
     },
     "execution_count": 50,
     "metadata": {},
     "output_type": "execute_result"
    }
   ],
   "source": [
    "t_d_transaction.isnull().sum()"
   ]
  },
  {
   "cell_type": "markdown",
   "metadata": {},
   "source": [
    "## Keeping only the columns from the training transaction data"
   ]
  },
  {
   "cell_type": "code",
   "execution_count": 51,
   "metadata": {},
   "outputs": [
    {
     "data": {
      "text/plain": [
       "TransactionID     0\n",
       "TransactionDT     0\n",
       "TransactionAmt    0\n",
       "ProductCD         0\n",
       "card1             0\n",
       "                 ..\n",
       "V317              3\n",
       "V318              3\n",
       "V319              3\n",
       "V320              3\n",
       "V321              3\n",
       "Length: 111, dtype: int64"
      ]
     },
     "execution_count": 51,
     "metadata": {},
     "output_type": "execute_result"
    }
   ],
   "source": [
    "test_col = list(tr_d_transaction.columns)\n",
    "test_col.remove('isFraud')\n",
    "t_d_transaction = t_d_transaction[test_col]\n",
    "t_d_transaction.isnull().sum()"
   ]
  },
  {
   "cell_type": "markdown",
   "metadata": {},
   "source": [
    "## Encoding the categorical features and replacing the null values of the test transaction data"
   ]
  },
  {
   "cell_type": "code",
   "execution_count": 52,
   "metadata": {},
   "outputs": [],
   "source": [
    "t_d_transaction['ProductCD'] = t_d_transaction['ProductCD'].replace({'W':0, 'C':1, 'R':2, 'H':3, 'S':4})"
   ]
  },
  {
   "cell_type": "code",
   "execution_count": 53,
   "metadata": {},
   "outputs": [],
   "source": [
    "t_d_transaction['card4'] = t_d_transaction['card4'].replace({'visa':0, 'mastercard':1, 'american express':2, 'discover':3})"
   ]
  },
  {
   "cell_type": "code",
   "execution_count": 54,
   "metadata": {},
   "outputs": [],
   "source": [
    "t_d_transaction['card6'] = t_d_transaction['card6'].replace({'charge card':np.NaN})"
   ]
  },
  {
   "cell_type": "code",
   "execution_count": 55,
   "metadata": {},
   "outputs": [],
   "source": [
    "t_d_transaction['card6'] = t_d_transaction['card6'].replace({'debit':0, 'credit':1})"
   ]
  },
  {
   "cell_type": "code",
   "execution_count": 56,
   "metadata": {},
   "outputs": [],
   "source": [
    "t_d_transaction['card4'].fillna((t_d_transaction['card4'].mode()[0]), inplace=True)"
   ]
  },
  {
   "cell_type": "code",
   "execution_count": 57,
   "metadata": {},
   "outputs": [],
   "source": [
    "t_d_transaction['card6'].fillna((t_d_transaction['card6'].mode()[0]), inplace=True)"
   ]
  },
  {
   "cell_type": "code",
   "execution_count": 58,
   "metadata": {},
   "outputs": [],
   "source": [
    "t_d_transaction.fillna(t_d_transaction.mean(), inplace=True)"
   ]
  },
  {
   "cell_type": "code",
   "execution_count": 59,
   "metadata": {},
   "outputs": [
    {
     "data": {
      "text/plain": [
       "TransactionID     0\n",
       "TransactionDT     0\n",
       "TransactionAmt    0\n",
       "ProductCD         0\n",
       "card1             0\n",
       "                 ..\n",
       "V317              0\n",
       "V318              0\n",
       "V319              0\n",
       "V320              0\n",
       "V321              0\n",
       "Length: 111, dtype: int64"
      ]
     },
     "execution_count": 59,
     "metadata": {},
     "output_type": "execute_result"
    }
   ],
   "source": [
    "t_d_transaction.isnull().sum()"
   ]
  },
  {
   "cell_type": "markdown",
   "metadata": {},
   "source": [
    "## Manually selecting the training identity columns since the test identity column names for id are incorrect"
   ]
  },
  {
   "cell_type": "code",
   "execution_count": 60,
   "metadata": {},
   "outputs": [
    {
     "data": {
      "text/plain": [
       "id-06             7157\n",
       "id-29             5129\n",
       "id-12                0\n",
       "id-15             4930\n",
       "id-05             7157\n",
       "id-11             5129\n",
       "id-20             6274\n",
       "id-36             4930\n",
       "id-01                0\n",
       "id-13            11621\n",
       "id-17             5941\n",
       "id-19             6001\n",
       "id-37             4930\n",
       "id-35             4930\n",
       "id-38             4930\n",
       "DeviceType        4976\n",
       "TransactionID        0\n",
       "dtype: int64"
      ]
     },
     "execution_count": 60,
     "metadata": {},
     "output_type": "execute_result"
    }
   ],
   "source": [
    "test_col_i = ['id-06', 'id-29', 'id-12', 'id-15', 'id-05', 'id-11', 'id-20', 'id-36', 'id-01', \n",
    "              'id-13', 'id-17', 'id-19', 'id-37', 'id-35', 'id-38', 'DeviceType', 'TransactionID']\n",
    "t_d_identity = t_d_identity[test_col_i]\n",
    "t_d_identity.isnull().sum()"
   ]
  },
  {
   "cell_type": "markdown",
   "metadata": {},
   "source": [
    "## Encoding the categorical columns and replacing the null values "
   ]
  },
  {
   "cell_type": "code",
   "execution_count": 61,
   "metadata": {},
   "outputs": [],
   "source": [
    "t_d_identity['id-12'] = t_d_identity['id-12'].replace({'NotFound':0, 'Found':1})\n",
    "t_d_identity['id-15'] = t_d_identity['id-15'].replace({'Found':0, 'New':1, 'Unknown':-1})\n",
    "t_d_identity['id-29'] = t_d_identity['id-29'].replace({'NotFound':0, 'Found':1})\n",
    "t_d_identity['id-35'] = t_d_identity['id-35'].replace({'F':0, 'T':1})\n",
    "t_d_identity['id-36'] = t_d_identity['id-36'].replace({'F':0, 'T':1})\n",
    "t_d_identity['id-37'] = t_d_identity['id-37'].replace({'F':0, 'T':1})\n",
    "t_d_identity['id-38'] = t_d_identity['id-38'].replace({'F':0, 'T':1})\n",
    "t_d_identity['DeviceType'] = t_d_identity['DeviceType'].replace({'mobile':0, 'desktop':1})"
   ]
  },
  {
   "cell_type": "code",
   "execution_count": 62,
   "metadata": {},
   "outputs": [],
   "source": [
    "col_name_mode_test = ['id-15', 'id-29', 'id-35', 'id-36', 'id-37', 'id-38', 'DeviceType']\n",
    "\n",
    "for column in col_name_mode_test:\n",
    "    t_d_identity[column].fillna(t_d_identity[column].mode()[0], inplace=True)"
   ]
  },
  {
   "cell_type": "code",
   "execution_count": 63,
   "metadata": {},
   "outputs": [],
   "source": [
    "col_name_mean_test = ['id-05', 'id-06', 'id-11', 'id-13', 'id-17', 'id-19', 'id-20']\n",
    "\n",
    "for column in col_name_mean_test:\n",
    "    t_d_identity[column].fillna(t_d_identity[column].mean(), inplace=True)"
   ]
  },
  {
   "cell_type": "markdown",
   "metadata": {},
   "source": [
    "## Joining the transaction and identity test data"
   ]
  },
  {
   "cell_type": "code",
   "execution_count": 64,
   "metadata": {},
   "outputs": [
    {
     "data": {
      "text/html": [
       "<div>\n",
       "<style scoped>\n",
       "    .dataframe tbody tr th:only-of-type {\n",
       "        vertical-align: middle;\n",
       "    }\n",
       "\n",
       "    .dataframe tbody tr th {\n",
       "        vertical-align: top;\n",
       "    }\n",
       "\n",
       "    .dataframe thead th {\n",
       "        text-align: right;\n",
       "    }\n",
       "</style>\n",
       "<table border=\"1\" class=\"dataframe\">\n",
       "  <thead>\n",
       "    <tr style=\"text-align: right;\">\n",
       "      <th></th>\n",
       "      <th>TransactionID</th>\n",
       "      <th>TransactionDT</th>\n",
       "      <th>TransactionAmt</th>\n",
       "      <th>ProductCD</th>\n",
       "      <th>card1</th>\n",
       "      <th>card2</th>\n",
       "      <th>card3</th>\n",
       "      <th>card4</th>\n",
       "      <th>card5</th>\n",
       "      <th>card6</th>\n",
       "      <th>...</th>\n",
       "      <th>id-20</th>\n",
       "      <th>id-36</th>\n",
       "      <th>id-01</th>\n",
       "      <th>id-13</th>\n",
       "      <th>id-17</th>\n",
       "      <th>id-19</th>\n",
       "      <th>id-37</th>\n",
       "      <th>id-35</th>\n",
       "      <th>id-38</th>\n",
       "      <th>DeviceType</th>\n",
       "    </tr>\n",
       "  </thead>\n",
       "  <tbody>\n",
       "    <tr>\n",
       "      <th>0</th>\n",
       "      <td>3663549</td>\n",
       "      <td>18403224</td>\n",
       "      <td>31.950</td>\n",
       "      <td>0</td>\n",
       "      <td>10409</td>\n",
       "      <td>111.0</td>\n",
       "      <td>150.0</td>\n",
       "      <td>0.0</td>\n",
       "      <td>226.0</td>\n",
       "      <td>0.0</td>\n",
       "      <td>...</td>\n",
       "      <td>NaN</td>\n",
       "      <td>NaN</td>\n",
       "      <td>NaN</td>\n",
       "      <td>NaN</td>\n",
       "      <td>NaN</td>\n",
       "      <td>NaN</td>\n",
       "      <td>NaN</td>\n",
       "      <td>NaN</td>\n",
       "      <td>NaN</td>\n",
       "      <td>NaN</td>\n",
       "    </tr>\n",
       "    <tr>\n",
       "      <th>1</th>\n",
       "      <td>3663550</td>\n",
       "      <td>18403263</td>\n",
       "      <td>49.000</td>\n",
       "      <td>0</td>\n",
       "      <td>4272</td>\n",
       "      <td>111.0</td>\n",
       "      <td>150.0</td>\n",
       "      <td>0.0</td>\n",
       "      <td>226.0</td>\n",
       "      <td>0.0</td>\n",
       "      <td>...</td>\n",
       "      <td>NaN</td>\n",
       "      <td>NaN</td>\n",
       "      <td>NaN</td>\n",
       "      <td>NaN</td>\n",
       "      <td>NaN</td>\n",
       "      <td>NaN</td>\n",
       "      <td>NaN</td>\n",
       "      <td>NaN</td>\n",
       "      <td>NaN</td>\n",
       "      <td>NaN</td>\n",
       "    </tr>\n",
       "    <tr>\n",
       "      <th>2</th>\n",
       "      <td>3663551</td>\n",
       "      <td>18403310</td>\n",
       "      <td>171.000</td>\n",
       "      <td>0</td>\n",
       "      <td>4476</td>\n",
       "      <td>574.0</td>\n",
       "      <td>150.0</td>\n",
       "      <td>0.0</td>\n",
       "      <td>226.0</td>\n",
       "      <td>0.0</td>\n",
       "      <td>...</td>\n",
       "      <td>NaN</td>\n",
       "      <td>NaN</td>\n",
       "      <td>NaN</td>\n",
       "      <td>NaN</td>\n",
       "      <td>NaN</td>\n",
       "      <td>NaN</td>\n",
       "      <td>NaN</td>\n",
       "      <td>NaN</td>\n",
       "      <td>NaN</td>\n",
       "      <td>NaN</td>\n",
       "    </tr>\n",
       "    <tr>\n",
       "      <th>3</th>\n",
       "      <td>3663552</td>\n",
       "      <td>18403310</td>\n",
       "      <td>284.950</td>\n",
       "      <td>0</td>\n",
       "      <td>10989</td>\n",
       "      <td>360.0</td>\n",
       "      <td>150.0</td>\n",
       "      <td>0.0</td>\n",
       "      <td>166.0</td>\n",
       "      <td>0.0</td>\n",
       "      <td>...</td>\n",
       "      <td>NaN</td>\n",
       "      <td>NaN</td>\n",
       "      <td>NaN</td>\n",
       "      <td>NaN</td>\n",
       "      <td>NaN</td>\n",
       "      <td>NaN</td>\n",
       "      <td>NaN</td>\n",
       "      <td>NaN</td>\n",
       "      <td>NaN</td>\n",
       "      <td>NaN</td>\n",
       "    </tr>\n",
       "    <tr>\n",
       "      <th>4</th>\n",
       "      <td>3663553</td>\n",
       "      <td>18403317</td>\n",
       "      <td>67.950</td>\n",
       "      <td>0</td>\n",
       "      <td>18018</td>\n",
       "      <td>452.0</td>\n",
       "      <td>150.0</td>\n",
       "      <td>1.0</td>\n",
       "      <td>117.0</td>\n",
       "      <td>0.0</td>\n",
       "      <td>...</td>\n",
       "      <td>NaN</td>\n",
       "      <td>NaN</td>\n",
       "      <td>NaN</td>\n",
       "      <td>NaN</td>\n",
       "      <td>NaN</td>\n",
       "      <td>NaN</td>\n",
       "      <td>NaN</td>\n",
       "      <td>NaN</td>\n",
       "      <td>NaN</td>\n",
       "      <td>NaN</td>\n",
       "    </tr>\n",
       "    <tr>\n",
       "      <th>...</th>\n",
       "      <td>...</td>\n",
       "      <td>...</td>\n",
       "      <td>...</td>\n",
       "      <td>...</td>\n",
       "      <td>...</td>\n",
       "      <td>...</td>\n",
       "      <td>...</td>\n",
       "      <td>...</td>\n",
       "      <td>...</td>\n",
       "      <td>...</td>\n",
       "      <td>...</td>\n",
       "      <td>...</td>\n",
       "      <td>...</td>\n",
       "      <td>...</td>\n",
       "      <td>...</td>\n",
       "      <td>...</td>\n",
       "      <td>...</td>\n",
       "      <td>...</td>\n",
       "      <td>...</td>\n",
       "      <td>...</td>\n",
       "      <td>...</td>\n",
       "    </tr>\n",
       "    <tr>\n",
       "      <th>506686</th>\n",
       "      <td>4170235</td>\n",
       "      <td>34214279</td>\n",
       "      <td>94.679</td>\n",
       "      <td>1</td>\n",
       "      <td>13832</td>\n",
       "      <td>375.0</td>\n",
       "      <td>185.0</td>\n",
       "      <td>1.0</td>\n",
       "      <td>224.0</td>\n",
       "      <td>0.0</td>\n",
       "      <td>...</td>\n",
       "      <td>NaN</td>\n",
       "      <td>NaN</td>\n",
       "      <td>NaN</td>\n",
       "      <td>NaN</td>\n",
       "      <td>NaN</td>\n",
       "      <td>NaN</td>\n",
       "      <td>NaN</td>\n",
       "      <td>NaN</td>\n",
       "      <td>NaN</td>\n",
       "      <td>NaN</td>\n",
       "    </tr>\n",
       "    <tr>\n",
       "      <th>506687</th>\n",
       "      <td>4170236</td>\n",
       "      <td>34214287</td>\n",
       "      <td>12.173</td>\n",
       "      <td>1</td>\n",
       "      <td>3154</td>\n",
       "      <td>408.0</td>\n",
       "      <td>185.0</td>\n",
       "      <td>1.0</td>\n",
       "      <td>224.0</td>\n",
       "      <td>0.0</td>\n",
       "      <td>...</td>\n",
       "      <td>507.0</td>\n",
       "      <td>0.0</td>\n",
       "      <td>-45.0</td>\n",
       "      <td>27.0</td>\n",
       "      <td>225.0</td>\n",
       "      <td>176.0</td>\n",
       "      <td>1.0</td>\n",
       "      <td>0.0</td>\n",
       "      <td>0.0</td>\n",
       "      <td>0.0</td>\n",
       "    </tr>\n",
       "    <tr>\n",
       "      <th>506688</th>\n",
       "      <td>4170237</td>\n",
       "      <td>34214326</td>\n",
       "      <td>49.000</td>\n",
       "      <td>0</td>\n",
       "      <td>16661</td>\n",
       "      <td>490.0</td>\n",
       "      <td>150.0</td>\n",
       "      <td>0.0</td>\n",
       "      <td>226.0</td>\n",
       "      <td>0.0</td>\n",
       "      <td>...</td>\n",
       "      <td>NaN</td>\n",
       "      <td>NaN</td>\n",
       "      <td>NaN</td>\n",
       "      <td>NaN</td>\n",
       "      <td>NaN</td>\n",
       "      <td>NaN</td>\n",
       "      <td>NaN</td>\n",
       "      <td>NaN</td>\n",
       "      <td>NaN</td>\n",
       "      <td>NaN</td>\n",
       "    </tr>\n",
       "    <tr>\n",
       "      <th>506689</th>\n",
       "      <td>4170238</td>\n",
       "      <td>34214337</td>\n",
       "      <td>202.000</td>\n",
       "      <td>0</td>\n",
       "      <td>16621</td>\n",
       "      <td>516.0</td>\n",
       "      <td>150.0</td>\n",
       "      <td>1.0</td>\n",
       "      <td>224.0</td>\n",
       "      <td>0.0</td>\n",
       "      <td>...</td>\n",
       "      <td>NaN</td>\n",
       "      <td>NaN</td>\n",
       "      <td>NaN</td>\n",
       "      <td>NaN</td>\n",
       "      <td>NaN</td>\n",
       "      <td>NaN</td>\n",
       "      <td>NaN</td>\n",
       "      <td>NaN</td>\n",
       "      <td>NaN</td>\n",
       "      <td>NaN</td>\n",
       "    </tr>\n",
       "    <tr>\n",
       "      <th>506690</th>\n",
       "      <td>4170239</td>\n",
       "      <td>34214345</td>\n",
       "      <td>24.346</td>\n",
       "      <td>1</td>\n",
       "      <td>5713</td>\n",
       "      <td>168.0</td>\n",
       "      <td>144.0</td>\n",
       "      <td>0.0</td>\n",
       "      <td>147.0</td>\n",
       "      <td>1.0</td>\n",
       "      <td>...</td>\n",
       "      <td>127.0</td>\n",
       "      <td>0.0</td>\n",
       "      <td>-10.0</td>\n",
       "      <td>27.0</td>\n",
       "      <td>225.0</td>\n",
       "      <td>266.0</td>\n",
       "      <td>1.0</td>\n",
       "      <td>0.0</td>\n",
       "      <td>0.0</td>\n",
       "      <td>0.0</td>\n",
       "    </tr>\n",
       "  </tbody>\n",
       "</table>\n",
       "<p>506691 rows × 127 columns</p>\n",
       "</div>"
      ],
      "text/plain": [
       "        TransactionID  TransactionDT  TransactionAmt  ProductCD  card1  card2  \\\n",
       "0             3663549       18403224          31.950          0  10409  111.0   \n",
       "1             3663550       18403263          49.000          0   4272  111.0   \n",
       "2             3663551       18403310         171.000          0   4476  574.0   \n",
       "3             3663552       18403310         284.950          0  10989  360.0   \n",
       "4             3663553       18403317          67.950          0  18018  452.0   \n",
       "...               ...            ...             ...        ...    ...    ...   \n",
       "506686        4170235       34214279          94.679          1  13832  375.0   \n",
       "506687        4170236       34214287          12.173          1   3154  408.0   \n",
       "506688        4170237       34214326          49.000          0  16661  490.0   \n",
       "506689        4170238       34214337         202.000          0  16621  516.0   \n",
       "506690        4170239       34214345          24.346          1   5713  168.0   \n",
       "\n",
       "        card3  card4  card5  card6  ...  id-20  id-36  id-01  id-13  id-17  \\\n",
       "0       150.0    0.0  226.0    0.0  ...    NaN    NaN    NaN    NaN    NaN   \n",
       "1       150.0    0.0  226.0    0.0  ...    NaN    NaN    NaN    NaN    NaN   \n",
       "2       150.0    0.0  226.0    0.0  ...    NaN    NaN    NaN    NaN    NaN   \n",
       "3       150.0    0.0  166.0    0.0  ...    NaN    NaN    NaN    NaN    NaN   \n",
       "4       150.0    1.0  117.0    0.0  ...    NaN    NaN    NaN    NaN    NaN   \n",
       "...       ...    ...    ...    ...  ...    ...    ...    ...    ...    ...   \n",
       "506686  185.0    1.0  224.0    0.0  ...    NaN    NaN    NaN    NaN    NaN   \n",
       "506687  185.0    1.0  224.0    0.0  ...  507.0    0.0  -45.0   27.0  225.0   \n",
       "506688  150.0    0.0  226.0    0.0  ...    NaN    NaN    NaN    NaN    NaN   \n",
       "506689  150.0    1.0  224.0    0.0  ...    NaN    NaN    NaN    NaN    NaN   \n",
       "506690  144.0    0.0  147.0    1.0  ...  127.0    0.0  -10.0   27.0  225.0   \n",
       "\n",
       "        id-19  id-37  id-35  id-38  DeviceType  \n",
       "0         NaN    NaN    NaN    NaN         NaN  \n",
       "1         NaN    NaN    NaN    NaN         NaN  \n",
       "2         NaN    NaN    NaN    NaN         NaN  \n",
       "3         NaN    NaN    NaN    NaN         NaN  \n",
       "4         NaN    NaN    NaN    NaN         NaN  \n",
       "...       ...    ...    ...    ...         ...  \n",
       "506686    NaN    NaN    NaN    NaN         NaN  \n",
       "506687  176.0    1.0    0.0    0.0         0.0  \n",
       "506688    NaN    NaN    NaN    NaN         NaN  \n",
       "506689    NaN    NaN    NaN    NaN         NaN  \n",
       "506690  266.0    1.0    0.0    0.0         0.0  \n",
       "\n",
       "[506691 rows x 127 columns]"
      ]
     },
     "execution_count": 64,
     "metadata": {},
     "output_type": "execute_result"
    }
   ],
   "source": [
    "t_join_left = pd.merge(t_d_transaction, t_d_identity, how=\"left\", on='TransactionID')\n",
    "t_join_left"
   ]
  },
  {
   "cell_type": "markdown",
   "metadata": {},
   "source": [
    "Dropping the columns with over 100000 null values after merging."
   ]
  },
  {
   "cell_type": "code",
   "execution_count": 65,
   "metadata": {},
   "outputs": [],
   "source": [
    "e = t_join_left.isnull().sum()> 100000\n",
    "fifth_drop_list = list(e[e].index)"
   ]
  },
  {
   "cell_type": "code",
   "execution_count": 66,
   "metadata": {},
   "outputs": [],
   "source": [
    "t_join_left.drop(fifth_drop_list, axis=1, inplace=True)"
   ]
  },
  {
   "cell_type": "code",
   "execution_count": 67,
   "metadata": {},
   "outputs": [
    {
     "data": {
      "text/plain": [
       "(590540, 111)"
      ]
     },
     "execution_count": 67,
     "metadata": {},
     "output_type": "execute_result"
    }
   ],
   "source": [
    "tr_join_left.shape"
   ]
  },
  {
   "cell_type": "code",
   "execution_count": 68,
   "metadata": {},
   "outputs": [],
   "source": [
    "del t_d_transaction, t_d_identity, tr_d_identity, tr_d_transaction"
   ]
  },
  {
   "cell_type": "markdown",
   "metadata": {},
   "source": [
    "## Applying various scalers and machine learning models to the final dataset"
   ]
  },
  {
   "cell_type": "code",
   "execution_count": 69,
   "metadata": {},
   "outputs": [],
   "source": [
    "transaction_id = t_join_left['TransactionID']\n",
    "t_join_left = t_join_left.drop(['TransactionID'], axis=1)"
   ]
  },
  {
   "cell_type": "code",
   "execution_count": 70,
   "metadata": {},
   "outputs": [],
   "source": [
    "X = tr_join_left.drop(['isFraud'], axis=1)\n",
    "y = tr_join_left['isFraud']"
   ]
  },
  {
   "cell_type": "code",
   "execution_count": 71,
   "metadata": {},
   "outputs": [],
   "source": [
    "# std_scaler = StandardScaler()\n",
    "\n",
    "# X = std_scaler.fit_transform(X)\n",
    "# t_join_left = std_scaler.transform(t_join_left)\n",
    "\n",
    "# worst 0.490858\n",
    "# min_max_scaler = MinMaxScaler()\n",
    "\n",
    "# X = min_max_scaler.fit_transform(X)\n",
    "# t_join_left = min_max_scaler.transform(t_join_left)\n",
    "\n",
    "\n",
    "# robust_scaler = RobustScaler()\n",
    "\n",
    "# X = robust_scaler.fit_transform(X)\n",
    "# t_join_left = robust_scaler.transform(t_join_left)\n",
    "\n",
    "\n",
    "# maxabs_scaler = MaxAbsScaler()\n",
    "\n",
    "# X = maxabs_scaler.fit_transform(X)\n",
    "# t_join_left = maxabs_scaler.transform(t_join_left)\n",
    "\n",
    "# pt = PowerTransformer()\n",
    "# X = pt.fit_transform(X)\n",
    "# t_join_left = pt.transform(t_join_left)\n",
    "\n",
    "qt = QuantileTransformer()\n",
    "X = qt.fit_transform(X)\n",
    "t_join_left = qt.transform(t_join_left)"
   ]
  },
  {
   "cell_type": "code",
   "execution_count": 72,
   "metadata": {},
   "outputs": [
    {
     "data": {
      "text/plain": [
       "GaussianNB()"
      ]
     },
     "execution_count": 72,
     "metadata": {},
     "output_type": "execute_result"
    }
   ],
   "source": [
    "# xgmodel = XGBClassifier()\n",
    "\n",
    "# xgmodel.fit(X, y)\n",
    "\n",
    "# rfc = RandomForestClassifier()\n",
    "\n",
    "# rfc.fit(X, y)\n",
    "\n",
    "# bagging = BaggingClassifier(RandomForestClassifier())\n",
    "\n",
    "# bagging.fit(X, y)\n",
    "\n",
    "# gbc = GradientBoostingClassifier()\n",
    "\n",
    "# gbc.fit(X, y)\n",
    "\n",
    "# param = {'learning_rate':[0.15,0.1,0.05,0.01,0.005,0.001], 'n_estimators':[100,250,500,750,1000,1250,1500,1750]}\n",
    "\n",
    "# gbc_tuning = RandomizedSearchCV(estimator = GradientBoostingClassifier(max_depth=5, min_samples_split=2, min_samples_leaf=1, subsample=1,\n",
    "#                                                             max_features='sqrt', random_state=10), \n",
    "#                                                             param_distributions = param, scoring='accuracy', n_jobs=4, cv=5)\n",
    "# gbc_tuning.fit(X,y)\n",
    "# gbc_tuning.grid_scores_, gbc_tuning.best_params_, gbc_tuning.best_score_\n",
    "\n",
    "gnb = GaussianNB()\n",
    "\n",
    "gnb.fit(X, y)"
   ]
  },
  {
   "cell_type": "code",
   "execution_count": 73,
   "metadata": {},
   "outputs": [],
   "source": [
    "# y_pred_xg = xgmodel.predict_proba(t_join_left)[:, 1]\n",
    "\n",
    "# y_pred_rfc = rfc.predict_proba(t_join_left)[:, 1]\n",
    "\n",
    "# y_pred_bagging = bagging.predict_proba(t_join_left)[:, 1]\n",
    "\n",
    "# y_pred_gbc = gbc_tuning.predict_proba(t_join_left)[:, 1]\n",
    "\n",
    "y_pred_gnb = gnb.predict_proba(t_join_left)[:, 1]"
   ]
  },
  {
   "cell_type": "markdown",
   "metadata": {},
   "source": [
    "Creating the csv file for submission"
   ]
  },
  {
   "cell_type": "code",
   "execution_count": 74,
   "metadata": {},
   "outputs": [],
   "source": [
    "output = pd.DataFrame({'TransactionID': transaction_id, 'isFraud': y_pred_xg})\n",
    "output.to_csv('my_submission_pro.csv', index=False)"
   ]
  }
 ],
 "metadata": {
  "kernelspec": {
   "display_name": "Python 3",
   "language": "python",
   "name": "python3"
  },
  "language_info": {
   "codemirror_mode": {
    "name": "ipython",
    "version": 3
   },
   "file_extension": ".py",
   "mimetype": "text/x-python",
   "name": "python",
   "nbconvert_exporter": "python",
   "pygments_lexer": "ipython3",
   "version": "3.8.5"
  }
 },
 "nbformat": 4,
 "nbformat_minor": 4
}
